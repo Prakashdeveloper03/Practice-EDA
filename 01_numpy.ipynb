{
 "cells": [
  {
   "cell_type": "markdown",
   "id": "38cfc5c4-bc19-464d-b006-2f998aece9dc",
   "metadata": {
    "editable": true,
    "id": "38cfc5c4-bc19-464d-b006-2f998aece9dc"
   },
   "source": [
    "# Numpy tutorial\n"
   ]
  },
  {
   "cell_type": "code",
   "execution_count": 1,
   "id": "dd54593c-d5b7-4b94-bdf0-3da4d0c15eab",
   "metadata": {
    "collapsed": false,
    "editable": true,
    "id": "dd54593c-d5b7-4b94-bdf0-3da4d0c15eab",
    "jupyter": {
     "outputs_hidden": false
    }
   },
   "outputs": [],
   "source": [
    "import numpy as np"
   ]
  },
  {
   "cell_type": "code",
   "execution_count": 2,
   "id": "f5d5724a-61fe-4252-9f32-c242b3c685e4",
   "metadata": {
    "colab": {
     "base_uri": "https://localhost:8080/",
     "height": 36
    },
    "id": "f5d5724a-61fe-4252-9f32-c242b3c685e4",
    "outputId": "a03130f1-f64d-4cbe-9d1d-9f94b0cf6b3d"
   },
   "outputs": [
    {
     "data": {
      "text/plain": [
       "'1.24.2'"
      ]
     },
     "execution_count": 2,
     "metadata": {},
     "output_type": "execute_result"
    }
   ],
   "source": [
    "np.__version__"
   ]
  },
  {
   "cell_type": "markdown",
   "id": "5ebca7c9-5680-4dad-8030-e063abe95126",
   "metadata": {
    "id": "5ebca7c9-5680-4dad-8030-e063abe95126"
   },
   "source": [
    "## Understanding Data Types in Python"
   ]
  },
  {
   "cell_type": "markdown",
   "id": "c7b26a89-8c21-471e-b7e6-84102085948f",
   "metadata": {
    "id": "c7b26a89-8c21-471e-b7e6-84102085948f"
   },
   "source": [
    "### A Python List Is More Than Just a List\n",
    "\n",
    "Let's consider now what happens when we use a Python data structure that holds many Python objects.\n",
    "The standard mutable multi-element container in Python is the list.\n",
    "We can create a list of integers as follows:"
   ]
  },
  {
   "cell_type": "code",
   "execution_count": 3,
   "id": "e88c99f9-74ac-4df1-81b0-77c6898915d3",
   "metadata": {
    "colab": {
     "base_uri": "https://localhost:8080/"
    },
    "collapsed": false,
    "id": "e88c99f9-74ac-4df1-81b0-77c6898915d3",
    "jupyter": {
     "outputs_hidden": false
    },
    "outputId": "f93a49b1-2278-44da-c5d7-b8e67ee22dd4"
   },
   "outputs": [
    {
     "data": {
      "text/plain": [
       "[0, 1, 2, 3, 4, 5, 6, 7, 8, 9]"
      ]
     },
     "execution_count": 3,
     "metadata": {},
     "output_type": "execute_result"
    }
   ],
   "source": [
    "L = list(range(10))\n",
    "L"
   ]
  },
  {
   "cell_type": "code",
   "execution_count": 4,
   "id": "04fd7fcc-8f07-4786-ae03-113c1cfe93a3",
   "metadata": {
    "colab": {
     "base_uri": "https://localhost:8080/"
    },
    "collapsed": false,
    "id": "04fd7fcc-8f07-4786-ae03-113c1cfe93a3",
    "jupyter": {
     "outputs_hidden": false
    },
    "outputId": "cfc13cd2-43d0-4f93-e83c-966f196e7aa4"
   },
   "outputs": [
    {
     "data": {
      "text/plain": [
       "int"
      ]
     },
     "execution_count": 4,
     "metadata": {},
     "output_type": "execute_result"
    }
   ],
   "source": [
    "type(L[0])"
   ]
  },
  {
   "cell_type": "markdown",
   "id": "efd1f987-22b6-4657-b57b-1633b80feb7b",
   "metadata": {
    "id": "efd1f987-22b6-4657-b57b-1633b80feb7b"
   },
   "source": [
    "Or, similarly, a list of strings:"
   ]
  },
  {
   "cell_type": "code",
   "execution_count": 5,
   "id": "8e689b8c-1b4f-4b07-990f-76747f291345",
   "metadata": {
    "colab": {
     "base_uri": "https://localhost:8080/"
    },
    "collapsed": false,
    "id": "8e689b8c-1b4f-4b07-990f-76747f291345",
    "jupyter": {
     "outputs_hidden": false
    },
    "outputId": "54569a2f-1088-476d-ba1f-962b9c6e887d"
   },
   "outputs": [
    {
     "name": "stdout",
     "output_type": "stream",
     "text": [
      "['0', '1', '2', '3', '4', '5', '6', '7', '8', '9']\n"
     ]
    }
   ],
   "source": [
    "L2 = [str(c) for c in L]\n",
    "print(L2)"
   ]
  },
  {
   "cell_type": "code",
   "execution_count": 6,
   "id": "771a068b-ac1d-4391-94d7-726959096bbe",
   "metadata": {
    "colab": {
     "base_uri": "https://localhost:8080/"
    },
    "collapsed": false,
    "id": "771a068b-ac1d-4391-94d7-726959096bbe",
    "jupyter": {
     "outputs_hidden": false
    },
    "outputId": "7d660d83-5ffe-4322-8abe-5a2fc2aeb65e"
   },
   "outputs": [
    {
     "data": {
      "text/plain": [
       "str"
      ]
     },
     "execution_count": 6,
     "metadata": {},
     "output_type": "execute_result"
    }
   ],
   "source": [
    "type(L2[0])"
   ]
  },
  {
   "cell_type": "markdown",
   "id": "54b60686-a3ab-48a3-b4af-c3c81a9ac96f",
   "metadata": {
    "id": "54b60686-a3ab-48a3-b4af-c3c81a9ac96f"
   },
   "source": [
    "Because of Python's dynamic typing, we can even create heterogeneous lists:"
   ]
  },
  {
   "cell_type": "code",
   "execution_count": 7,
   "id": "e6bc7eec-d075-487a-9fdf-cef0ad6dcc3f",
   "metadata": {
    "colab": {
     "base_uri": "https://localhost:8080/"
    },
    "collapsed": false,
    "id": "e6bc7eec-d075-487a-9fdf-cef0ad6dcc3f",
    "jupyter": {
     "outputs_hidden": false
    },
    "outputId": "230f3fe9-c62b-4504-c9ad-2d686c67aa70"
   },
   "outputs": [
    {
     "data": {
      "text/plain": [
       "[bool, str, float, int]"
      ]
     },
     "execution_count": 7,
     "metadata": {},
     "output_type": "execute_result"
    }
   ],
   "source": [
    "L3 = [True, \"2\", 3.0, 4]\n",
    "[type(item) for item in L3]"
   ]
  },
  {
   "cell_type": "markdown",
   "id": "783932f5-971e-4629-b21f-d05443c08da4",
   "metadata": {
    "id": "783932f5-971e-4629-b21f-d05443c08da4"
   },
   "source": [
    "### Fixed-Type Arrays in Python\n",
    "\n",
    "Python offers several different options for storing data in efficient, fixed-type data buffers.\n",
    "The built-in ``array`` module (available since Python 3.3) can be used to create dense arrays of a uniform type:"
   ]
  },
  {
   "cell_type": "code",
   "execution_count": 8,
   "id": "fa82e43f-7ca7-48de-a301-f9234b243e8b",
   "metadata": {
    "colab": {
     "base_uri": "https://localhost:8080/"
    },
    "collapsed": false,
    "id": "fa82e43f-7ca7-48de-a301-f9234b243e8b",
    "jupyter": {
     "outputs_hidden": false
    },
    "outputId": "657110ac-542d-48a1-fb20-271cc0babca5"
   },
   "outputs": [
    {
     "data": {
      "text/plain": [
       "array('f', [0.0, 1.0, 2.0, 3.0, 4.0, 5.0, 6.0, 7.0, 8.0, 9.0])"
      ]
     },
     "execution_count": 8,
     "metadata": {},
     "output_type": "execute_result"
    }
   ],
   "source": [
    "import array\n",
    "L = list(range(10))\n",
    "A = array.array('f', L)\n",
    "A"
   ]
  },
  {
   "cell_type": "markdown",
   "id": "f7d08ba8-b44e-4bbd-8844-8514b0ceeba1",
   "metadata": {
    "id": "f7d08ba8-b44e-4bbd-8844-8514b0ceeba1"
   },
   "source": [
    "Here ``'i'`` is a type code indicating the contents are integers.\n",
    "\n",
    "Much more useful, however, is the ``ndarray`` object of the NumPy package.\n",
    "While Python's ``array`` object provides efficient storage of array-based data, NumPy adds to this efficient *operations* on that data."
   ]
  },
  {
   "cell_type": "markdown",
   "id": "4756c7ef-274c-4df9-8803-efe1c988cd27",
   "metadata": {
    "id": "4756c7ef-274c-4df9-8803-efe1c988cd27"
   },
   "source": [
    "## Creating Arrays from Python Lists\n",
    "\n",
    "First, we can use ``np.array`` to create arrays from Python lists:"
   ]
  },
  {
   "cell_type": "code",
   "execution_count": 9,
   "id": "0ba6bbd8-2548-441e-8114-f58bc70c3f40",
   "metadata": {
    "colab": {
     "base_uri": "https://localhost:8080/"
    },
    "collapsed": false,
    "id": "0ba6bbd8-2548-441e-8114-f58bc70c3f40",
    "jupyter": {
     "outputs_hidden": false
    },
    "outputId": "bf3ef40c-c52d-4ad1-9ac9-fc17a432973e"
   },
   "outputs": [
    {
     "data": {
      "text/plain": [
       "array([1, 4, 2, 5, 3])"
      ]
     },
     "execution_count": 9,
     "metadata": {},
     "output_type": "execute_result"
    }
   ],
   "source": [
    "# integer array:\n",
    "np.array([1, 4, 2, 5, 3])"
   ]
  },
  {
   "cell_type": "markdown",
   "id": "378cf1f0-766a-4a98-8e6a-de3d4caca5e2",
   "metadata": {
    "id": "378cf1f0-766a-4a98-8e6a-de3d4caca5e2"
   },
   "source": [
    "Remember that unlike Python lists, NumPy is constrained to arrays that all contain the same type.\n",
    "If types do not match, NumPy will upcast if possible (here, integers are up-cast to floating point):"
   ]
  },
  {
   "cell_type": "code",
   "execution_count": 10,
   "id": "5c8ef7c4-9568-41bf-a9c6-fac4442d5927",
   "metadata": {
    "colab": {
     "base_uri": "https://localhost:8080/"
    },
    "collapsed": false,
    "id": "5c8ef7c4-9568-41bf-a9c6-fac4442d5927",
    "jupyter": {
     "outputs_hidden": false
    },
    "outputId": "5d1f3e55-a480-4750-8c93-e42d3bb6900a"
   },
   "outputs": [
    {
     "data": {
      "text/plain": [
       "array([3.14, 4.  , 2.  , 3.  ])"
      ]
     },
     "execution_count": 10,
     "metadata": {},
     "output_type": "execute_result"
    }
   ],
   "source": [
    "np.array([3.14, 4, 2, 3])"
   ]
  },
  {
   "cell_type": "markdown",
   "id": "248e932a-14f3-4712-90c2-768e0816f06f",
   "metadata": {
    "id": "248e932a-14f3-4712-90c2-768e0816f06f"
   },
   "source": [
    "If we want to explicitly set the data type of the resulting array, we can use the ``dtype`` keyword:"
   ]
  },
  {
   "cell_type": "code",
   "execution_count": 11,
   "id": "5f5130b6-69e9-4c7c-9a96-b8899b401000",
   "metadata": {
    "colab": {
     "base_uri": "https://localhost:8080/"
    },
    "collapsed": false,
    "id": "5f5130b6-69e9-4c7c-9a96-b8899b401000",
    "jupyter": {
     "outputs_hidden": false
    },
    "outputId": "837121ea-5c4b-4993-b1be-53ec4db45971"
   },
   "outputs": [
    {
     "data": {
      "text/plain": [
       "array([1., 2., 3., 4.], dtype=float32)"
      ]
     },
     "execution_count": 11,
     "metadata": {},
     "output_type": "execute_result"
    }
   ],
   "source": [
    "np.array([1, 2, 3, 4], dtype='float32')"
   ]
  },
  {
   "cell_type": "markdown",
   "id": "246d398e-89e9-47e2-b3ee-9d46f2c097aa",
   "metadata": {
    "id": "246d398e-89e9-47e2-b3ee-9d46f2c097aa"
   },
   "source": [
    "Finally, unlike Python lists, NumPy arrays can explicitly be multi-dimensional; here's one way of initializing a multidimensional array using a list of lists:"
   ]
  },
  {
   "cell_type": "code",
   "execution_count": 12,
   "id": "80bb4dd9-2949-4893-a204-8f378d3efeca",
   "metadata": {
    "colab": {
     "base_uri": "https://localhost:8080/"
    },
    "collapsed": false,
    "id": "80bb4dd9-2949-4893-a204-8f378d3efeca",
    "jupyter": {
     "outputs_hidden": false
    },
    "outputId": "2b2b0de1-c5c0-4d2e-b861-645869de5b4f"
   },
   "outputs": [
    {
     "data": {
      "text/plain": [
       "array([[ 2,  4,  6],\n",
       "       [ 3,  5,  7],\n",
       "       [ 1,  9, 11]])"
      ]
     },
     "execution_count": 12,
     "metadata": {},
     "output_type": "execute_result"
    }
   ],
   "source": [
    "# nested lists result in multi-dimensional arrays\n",
    "np.array([[2, 4, 6], [3, 5, 7], [1, 9, 11]])"
   ]
  },
  {
   "cell_type": "markdown",
   "id": "33e356ea-d51f-484a-be62-940c85fad325",
   "metadata": {
    "id": "33e356ea-d51f-484a-be62-940c85fad325"
   },
   "source": [
    "The inner lists are treated as rows of the resulting two-dimensional array."
   ]
  },
  {
   "cell_type": "markdown",
   "id": "d19efbd7-fffa-475e-973c-04b9385fe7f0",
   "metadata": {
    "id": "d19efbd7-fffa-475e-973c-04b9385fe7f0"
   },
   "source": [
    "## Creating Arrays from Scratch\n",
    "\n",
    "Especially for larger arrays, it is more efficient to create arrays from scratch using routines built into NumPy.\n",
    "Here are several examples:"
   ]
  },
  {
   "cell_type": "code",
   "execution_count": 13,
   "id": "f5fbb691-0536-4192-83fa-60534842e353",
   "metadata": {
    "colab": {
     "base_uri": "https://localhost:8080/"
    },
    "collapsed": false,
    "id": "f5fbb691-0536-4192-83fa-60534842e353",
    "jupyter": {
     "outputs_hidden": false
    },
    "outputId": "af9940c0-3ba1-46c9-f875-0c7ca7141f9f"
   },
   "outputs": [
    {
     "data": {
      "text/plain": [
       "array([0, 0, 0, 0, 0, 0, 0, 0, 0, 0])"
      ]
     },
     "execution_count": 13,
     "metadata": {},
     "output_type": "execute_result"
    }
   ],
   "source": [
    "# Create a length-10 integer array filled with zeros\n",
    "np.zeros(10, dtype=int)"
   ]
  },
  {
   "cell_type": "code",
   "execution_count": 14,
   "id": "319dad84-2d48-4953-a50e-25293c362d39",
   "metadata": {
    "colab": {
     "base_uri": "https://localhost:8080/"
    },
    "id": "319dad84-2d48-4953-a50e-25293c362d39",
    "outputId": "fd6ece89-36f9-46e0-eac1-76fd04a0c2c4"
   },
   "outputs": [
    {
     "data": {
      "text/plain": [
       "array([[0, 0, 0],\n",
       "       [0, 0, 0],\n",
       "       [0, 0, 0]])"
      ]
     },
     "execution_count": 14,
     "metadata": {},
     "output_type": "execute_result"
    }
   ],
   "source": [
    "np.zeros((3, 3), dtype=int)"
   ]
  },
  {
   "cell_type": "code",
   "execution_count": 15,
   "id": "5b77ede1-1000-477e-8b94-3af0abb092c8",
   "metadata": {
    "colab": {
     "base_uri": "https://localhost:8080/"
    },
    "collapsed": false,
    "id": "5b77ede1-1000-477e-8b94-3af0abb092c8",
    "jupyter": {
     "outputs_hidden": false
    },
    "outputId": "462620d8-51d2-4e65-fa0a-97b399155435"
   },
   "outputs": [
    {
     "data": {
      "text/plain": [
       "array([[1., 1., 1., 1., 1.],\n",
       "       [1., 1., 1., 1., 1.],\n",
       "       [1., 1., 1., 1., 1.]])"
      ]
     },
     "execution_count": 15,
     "metadata": {},
     "output_type": "execute_result"
    }
   ],
   "source": [
    "# Create a 3x5 floating-point array filled with ones\n",
    "np.ones((3, 5), dtype=float)"
   ]
  },
  {
   "cell_type": "code",
   "execution_count": 16,
   "id": "f5e058b5-9ba6-4b4f-a3c3-b13fdf94010b",
   "metadata": {
    "colab": {
     "base_uri": "https://localhost:8080/"
    },
    "collapsed": false,
    "id": "f5e058b5-9ba6-4b4f-a3c3-b13fdf94010b",
    "jupyter": {
     "outputs_hidden": false
    },
    "outputId": "08212ccf-51ce-4b21-a810-efefdbd2c87a"
   },
   "outputs": [
    {
     "data": {
      "text/plain": [
       "array([[3.14, 3.14, 3.14, 3.14, 3.14],\n",
       "       [3.14, 3.14, 3.14, 3.14, 3.14],\n",
       "       [3.14, 3.14, 3.14, 3.14, 3.14]])"
      ]
     },
     "execution_count": 16,
     "metadata": {},
     "output_type": "execute_result"
    }
   ],
   "source": [
    "# Create a 3x5 array filled with 3.14\n",
    "np.full((3, 5), 3.14)"
   ]
  },
  {
   "cell_type": "code",
   "execution_count": 17,
   "id": "76020b6b-edac-40f0-9781-f352e4e6f2d2",
   "metadata": {
    "colab": {
     "base_uri": "https://localhost:8080/"
    },
    "collapsed": false,
    "id": "76020b6b-edac-40f0-9781-f352e4e6f2d2",
    "jupyter": {
     "outputs_hidden": false
    },
    "outputId": "101545e5-5424-421b-aa0e-9c8795e83012"
   },
   "outputs": [
    {
     "data": {
      "text/plain": [
       "array([ 0,  2,  4,  6,  8, 10, 12, 14, 16, 18])"
      ]
     },
     "execution_count": 17,
     "metadata": {},
     "output_type": "execute_result"
    }
   ],
   "source": [
    "# Create an array filled with a linear sequence\n",
    "# Starting at 0, ending at 20, stepping by 2\n",
    "# (this is similar to the built-in range() function)\n",
    "np.arange(0, 20, 2)"
   ]
  },
  {
   "cell_type": "code",
   "execution_count": 18,
   "id": "28d91203-1524-4693-b75e-7af236252b14",
   "metadata": {
    "colab": {
     "base_uri": "https://localhost:8080/"
    },
    "collapsed": false,
    "id": "28d91203-1524-4693-b75e-7af236252b14",
    "jupyter": {
     "outputs_hidden": false
    },
    "outputId": "4c090960-42ef-4692-83fb-2b40ccb2e963"
   },
   "outputs": [
    {
     "data": {
      "text/plain": [
       "array([0.  , 0.25, 0.5 , 0.75, 1.  ])"
      ]
     },
     "execution_count": 18,
     "metadata": {},
     "output_type": "execute_result"
    }
   ],
   "source": [
    "# Create an array of five values evenly spaced between 0 and 1\n",
    "np.linspace(0, 1, 5)"
   ]
  },
  {
   "cell_type": "code",
   "execution_count": 19,
   "id": "77e545e9-36b2-4b3e-af1d-a9b11739cb9b",
   "metadata": {
    "colab": {
     "base_uri": "https://localhost:8080/"
    },
    "collapsed": false,
    "id": "77e545e9-36b2-4b3e-af1d-a9b11739cb9b",
    "jupyter": {
     "outputs_hidden": false
    },
    "outputId": "7e19b278-1721-4c73-fdc8-a530713c71cc"
   },
   "outputs": [
    {
     "data": {
      "text/plain": [
       "array([[0.50237581, 0.07743866, 0.86274921],\n",
       "       [0.04840462, 0.23323741, 0.74665085],\n",
       "       [0.38875186, 0.55967313, 0.56245272]])"
      ]
     },
     "execution_count": 19,
     "metadata": {},
     "output_type": "execute_result"
    }
   ],
   "source": [
    "# Create a 3x3 array of uniformly distributed\n",
    "# random values between 0 and 1\n",
    "np.random.random((3, 3))"
   ]
  },
  {
   "cell_type": "code",
   "execution_count": 20,
   "id": "1ab2424c-d638-48a7-869f-e10c6c0dd7a8",
   "metadata": {
    "colab": {
     "base_uri": "https://localhost:8080/"
    },
    "collapsed": false,
    "id": "1ab2424c-d638-48a7-869f-e10c6c0dd7a8",
    "jupyter": {
     "outputs_hidden": false
    },
    "outputId": "2b273cff-04e2-4ef4-9c17-cad4f358d9a8"
   },
   "outputs": [
    {
     "data": {
      "text/plain": [
       "array([[ 1.38044842,  1.26923211,  0.57579071],\n",
       "       [ 2.43274392, -0.27069407, -1.84416138],\n",
       "       [-0.44601899, -1.48621357,  1.37373399]])"
      ]
     },
     "execution_count": 20,
     "metadata": {},
     "output_type": "execute_result"
    }
   ],
   "source": [
    "# Create a 3x3 array of normally distributed random values\n",
    "# with mean 0 and standard deviation 1\n",
    "np.random.normal(0, 1, (3, 3))"
   ]
  },
  {
   "cell_type": "code",
   "execution_count": 21,
   "id": "4582ce5f-8910-405d-9641-f43da2666e93",
   "metadata": {
    "colab": {
     "base_uri": "https://localhost:8080/"
    },
    "collapsed": false,
    "id": "4582ce5f-8910-405d-9641-f43da2666e93",
    "jupyter": {
     "outputs_hidden": false
    },
    "outputId": "adc611eb-10f8-43b9-8262-b9526da69fb6"
   },
   "outputs": [
    {
     "data": {
      "text/plain": [
       "array([[6, 6, 0],\n",
       "       [9, 5, 7],\n",
       "       [3, 9, 8]])"
      ]
     },
     "execution_count": 21,
     "metadata": {},
     "output_type": "execute_result"
    }
   ],
   "source": [
    "# Create a 3x3 array of random integers in the interval [0, 10)\n",
    "np.random.randint(0, 10, (3, 3))"
   ]
  },
  {
   "cell_type": "code",
   "execution_count": 22,
   "id": "c156ff4e-cbc3-4500-b322-5b015bb1a410",
   "metadata": {
    "colab": {
     "base_uri": "https://localhost:8080/"
    },
    "collapsed": false,
    "id": "c156ff4e-cbc3-4500-b322-5b015bb1a410",
    "jupyter": {
     "outputs_hidden": false
    },
    "outputId": "376980d2-bf6e-4062-bea5-775c43c84bfe"
   },
   "outputs": [
    {
     "data": {
      "text/plain": [
       "array([[1., 0., 0.],\n",
       "       [0., 1., 0.],\n",
       "       [0., 0., 1.]])"
      ]
     },
     "execution_count": 22,
     "metadata": {},
     "output_type": "execute_result"
    }
   ],
   "source": [
    "# Create a 3x3 identity matrix\n",
    "np.eye(3)"
   ]
  },
  {
   "cell_type": "code",
   "execution_count": 23,
   "id": "1b93125b-f2a7-407d-bde9-d65d7f158834",
   "metadata": {
    "colab": {
     "base_uri": "https://localhost:8080/"
    },
    "collapsed": false,
    "id": "1b93125b-f2a7-407d-bde9-d65d7f158834",
    "jupyter": {
     "outputs_hidden": false
    },
    "outputId": "d5e2087c-9f73-47b5-fcf4-85c201e89eb8"
   },
   "outputs": [
    {
     "data": {
      "text/plain": [
       "array([1., 1., 1.])"
      ]
     },
     "execution_count": 23,
     "metadata": {},
     "output_type": "execute_result"
    }
   ],
   "source": [
    "# Create an uninitialized array of three integers\n",
    "# The values will be whatever happens to already exist at that memory location\n",
    "np.empty(3)"
   ]
  },
  {
   "cell_type": "markdown",
   "id": "82546ca2-88d4-4efc-8eea-9a782330b2ba",
   "metadata": {
    "id": "82546ca2-88d4-4efc-8eea-9a782330b2ba"
   },
   "source": [
    "### NumPy Standard Data Types\n",
    "\n",
    "NumPy arrays contain values of a single type, so it is important to have detailed knowledge of those types and their limitations.\n",
    "Because NumPy is built in C, the types will be familiar to users of C, Fortran, and other related languages.\n",
    "\n",
    "The standard NumPy data types are listed in the following table.\n",
    "Note that when constructing an array, they can be specified using a string:\n",
    "\n",
    "```python\n",
    "np.zeros(10, dtype='int16')\n",
    "```\n",
    "\n",
    "Or using the associated NumPy object:\n",
    "\n",
    "```python\n",
    "np.zeros(10, dtype=np.int16)\n",
    "```"
   ]
  },
  {
   "cell_type": "markdown",
   "id": "153bb6bc-a248-4b47-a3a1-cc3d517e5fef",
   "metadata": {
    "id": "153bb6bc-a248-4b47-a3a1-cc3d517e5fef"
   },
   "source": [
    "| Data type\t    | Description |\n",
    "|---------------|-------------|\n",
    "| ``bool_``     | Boolean (True or False) stored as a byte |\n",
    "| ``int_``      | Default integer type (same as C ``long``; normally either ``int64`` or ``int32``)| \n",
    "| ``intc``      | Identical to C ``int`` (normally ``int32`` or ``int64``)| \n",
    "| ``intp``      | Integer used for indexing (same as C ``ssize_t``; normally either ``int32`` or ``int64``)| \n",
    "| ``int8``      | Byte (-128 to 127)| \n",
    "| ``int16``     | Integer (-32768 to 32767)|\n",
    "| ``int32``     | Integer (-2147483648 to 2147483647)|\n",
    "| ``int64``     | Integer (-9223372036854775808 to 9223372036854775807)| \n",
    "| ``uint8``     | Unsigned integer (0 to 255)| \n",
    "| ``uint16``    | Unsigned integer (0 to 65535)| \n",
    "| ``uint32``    | Unsigned integer (0 to 4294967295)| \n",
    "| ``uint64``    | Unsigned integer (0 to 18446744073709551615)| \n",
    "| ``float_``    | Shorthand for ``float64``.| \n",
    "| ``float16``   | Half precision float: sign bit, 5 bits exponent, 10 bits mantissa| \n",
    "| ``float32``   | Single precision float: sign bit, 8 bits exponent, 23 bits mantissa| \n",
    "| ``float64``   | Double precision float: sign bit, 11 bits exponent, 52 bits mantissa| \n",
    "| ``complex_``  | Shorthand for ``complex128``.| \n",
    "| ``complex64`` | Complex number, represented by two 32-bit floats| \n",
    "| ``complex128``| Complex number, represented by two 64-bit floats| "
   ]
  },
  {
   "cell_type": "markdown",
   "id": "a20994df-9488-4060-a504-6fec56e99735",
   "metadata": {
    "id": "a20994df-9488-4060-a504-6fec56e99735"
   },
   "source": [
    "## The Basics of NumPy Arrays"
   ]
  },
  {
   "cell_type": "markdown",
   "id": "56af7d46-f8fb-4291-baa1-e6911c0cf1ac",
   "metadata": {
    "id": "56af7d46-f8fb-4291-baa1-e6911c0cf1ac"
   },
   "source": [
    "### NumPy Array Attributes"
   ]
  },
  {
   "cell_type": "code",
   "execution_count": 24,
   "id": "6be6c576-11f5-4014-9511-e002dfa47893",
   "metadata": {
    "collapsed": false,
    "id": "6be6c576-11f5-4014-9511-e002dfa47893",
    "jupyter": {
     "outputs_hidden": false
    }
   },
   "outputs": [],
   "source": [
    "np.random.seed(0)  # seed for reproducibility\n",
    "x1 = np.random.randint(10, size=6)  # One-dimensional array\n",
    "x2 = np.random.randint(10, size=(3, 4))  # Two-dimensional array\n",
    "x3 = np.random.randint(10, size=(3, 4, 5))  # Three-dimensional array\n",
    "x4 = np.random.randint(10, size=(3, 4, 5, 2))"
   ]
  },
  {
   "cell_type": "markdown",
   "id": "586daca1-2685-4639-9e2b-5df3f7a48c4a",
   "metadata": {
    "id": "586daca1-2685-4639-9e2b-5df3f7a48c4a"
   },
   "source": [
    "Each array has attributes ``ndim`` (the number of dimensions), ``shape`` (the size of each dimension), and ``size`` (the total size of the array):"
   ]
  },
  {
   "cell_type": "code",
   "execution_count": 25,
   "id": "1ece0806-87a2-4f9b-be9d-816822d2faa2",
   "metadata": {
    "colab": {
     "base_uri": "https://localhost:8080/"
    },
    "id": "1ece0806-87a2-4f9b-be9d-816822d2faa2",
    "outputId": "cd3b0b24-4a2e-414b-edcc-da6c730628bf"
   },
   "outputs": [
    {
     "data": {
      "text/plain": [
       "array([5, 0, 3, 3, 7, 9])"
      ]
     },
     "execution_count": 25,
     "metadata": {},
     "output_type": "execute_result"
    }
   ],
   "source": [
    "x1"
   ]
  },
  {
   "cell_type": "code",
   "execution_count": 26,
   "id": "fb9a01bf-05cf-471b-89a6-b49e2663f7be",
   "metadata": {
    "colab": {
     "base_uri": "https://localhost:8080/"
    },
    "id": "fb9a01bf-05cf-471b-89a6-b49e2663f7be",
    "outputId": "5b5c8ec6-7f95-439b-e1a9-79a44b394403"
   },
   "outputs": [
    {
     "data": {
      "text/plain": [
       "array([[3, 5, 2, 4],\n",
       "       [7, 6, 8, 8],\n",
       "       [1, 6, 7, 7]])"
      ]
     },
     "execution_count": 26,
     "metadata": {},
     "output_type": "execute_result"
    }
   ],
   "source": [
    "x2"
   ]
  },
  {
   "cell_type": "code",
   "execution_count": 27,
   "id": "136b31a4-2c28-494d-b2e1-b28302ab8796",
   "metadata": {
    "colab": {
     "base_uri": "https://localhost:8080/"
    },
    "id": "136b31a4-2c28-494d-b2e1-b28302ab8796",
    "outputId": "b2af3900-99b7-406b-9240-12513babe035"
   },
   "outputs": [
    {
     "data": {
      "text/plain": [
       "array([[[8, 1, 5, 9, 8],\n",
       "        [9, 4, 3, 0, 3],\n",
       "        [5, 0, 2, 3, 8],\n",
       "        [1, 3, 3, 3, 7]],\n",
       "\n",
       "       [[0, 1, 9, 9, 0],\n",
       "        [4, 7, 3, 2, 7],\n",
       "        [2, 0, 0, 4, 5],\n",
       "        [5, 6, 8, 4, 1]],\n",
       "\n",
       "       [[4, 9, 8, 1, 1],\n",
       "        [7, 9, 9, 3, 6],\n",
       "        [7, 2, 0, 3, 5],\n",
       "        [9, 4, 4, 6, 4]]])"
      ]
     },
     "execution_count": 27,
     "metadata": {},
     "output_type": "execute_result"
    }
   ],
   "source": [
    "x3"
   ]
  },
  {
   "cell_type": "code",
   "execution_count": 28,
   "id": "f864d4e2-542d-46a9-b46d-abb91a1bafeb",
   "metadata": {
    "colab": {
     "base_uri": "https://localhost:8080/"
    },
    "id": "f864d4e2-542d-46a9-b46d-abb91a1bafeb",
    "outputId": "37b246d9-c297-437f-8c94-3de8482fb9ab"
   },
   "outputs": [
    {
     "data": {
      "text/plain": [
       "array([[[[4, 3],\n",
       "         [4, 4],\n",
       "         [8, 4],\n",
       "         [3, 7],\n",
       "         [5, 5]],\n",
       "\n",
       "        [[0, 1],\n",
       "         [5, 9],\n",
       "         [3, 0],\n",
       "         [5, 0],\n",
       "         [1, 2]],\n",
       "\n",
       "        [[4, 2],\n",
       "         [0, 3],\n",
       "         [2, 0],\n",
       "         [7, 5],\n",
       "         [9, 0]],\n",
       "\n",
       "        [[2, 7],\n",
       "         [2, 9],\n",
       "         [2, 3],\n",
       "         [3, 2],\n",
       "         [3, 4]]],\n",
       "\n",
       "\n",
       "       [[[1, 2],\n",
       "         [9, 1],\n",
       "         [4, 6],\n",
       "         [8, 2],\n",
       "         [3, 0]],\n",
       "\n",
       "        [[0, 6],\n",
       "         [0, 6],\n",
       "         [3, 3],\n",
       "         [8, 8],\n",
       "         [8, 2]],\n",
       "\n",
       "        [[3, 2],\n",
       "         [0, 8],\n",
       "         [8, 3],\n",
       "         [8, 2],\n",
       "         [8, 4]],\n",
       "\n",
       "        [[3, 0],\n",
       "         [4, 3],\n",
       "         [6, 9],\n",
       "         [8, 0],\n",
       "         [8, 5]]],\n",
       "\n",
       "\n",
       "       [[[9, 0],\n",
       "         [9, 6],\n",
       "         [5, 3],\n",
       "         [1, 8],\n",
       "         [0, 4]],\n",
       "\n",
       "        [[9, 6],\n",
       "         [5, 7],\n",
       "         [8, 8],\n",
       "         [9, 2],\n",
       "         [8, 6]],\n",
       "\n",
       "        [[6, 9],\n",
       "         [1, 6],\n",
       "         [8, 8],\n",
       "         [3, 2],\n",
       "         [3, 6]],\n",
       "\n",
       "        [[3, 6],\n",
       "         [5, 7],\n",
       "         [0, 8],\n",
       "         [4, 6],\n",
       "         [5, 8]]]])"
      ]
     },
     "execution_count": 28,
     "metadata": {},
     "output_type": "execute_result"
    }
   ],
   "source": [
    "x4"
   ]
  },
  {
   "cell_type": "code",
   "execution_count": 29,
   "id": "f5f526bf-8db1-4659-851b-125e17ed60ca",
   "metadata": {
    "colab": {
     "base_uri": "https://localhost:8080/"
    },
    "id": "f5f526bf-8db1-4659-851b-125e17ed60ca",
    "outputId": "9f961d2b-dee3-4479-84fc-231bcf6cbd3c"
   },
   "outputs": [
    {
     "name": "stdout",
     "output_type": "stream",
     "text": [
      "x1 ndim:  1\n",
      "x1 shape: (6,)\n",
      "x1 size:  6\n"
     ]
    }
   ],
   "source": [
    "print(\"x1 ndim: \", x1.ndim)\n",
    "print(\"x1 shape:\", x1.shape)\n",
    "print(\"x1 size: \", x1.size)"
   ]
  },
  {
   "cell_type": "code",
   "execution_count": 30,
   "id": "db55ddb1-2915-41a2-baf5-0040a68cf566",
   "metadata": {
    "colab": {
     "base_uri": "https://localhost:8080/"
    },
    "id": "db55ddb1-2915-41a2-baf5-0040a68cf566",
    "outputId": "4b1f64dc-850f-45ca-d212-74d59e481bd4"
   },
   "outputs": [
    {
     "name": "stdout",
     "output_type": "stream",
     "text": [
      "x2 ndim:  2\n",
      "x2 shape: (3, 4)\n",
      "x2 size:  12\n"
     ]
    }
   ],
   "source": [
    "print(\"x2 ndim: \", x2.ndim)\n",
    "print(\"x2 shape:\", x2.shape)\n",
    "print(\"x2 size: \", x2.size)"
   ]
  },
  {
   "cell_type": "code",
   "execution_count": 31,
   "id": "a1c10c56-f287-4bec-9249-10106dcefa33",
   "metadata": {
    "colab": {
     "base_uri": "https://localhost:8080/"
    },
    "collapsed": false,
    "id": "a1c10c56-f287-4bec-9249-10106dcefa33",
    "jupyter": {
     "outputs_hidden": false
    },
    "outputId": "b4994928-e255-4d50-d8a2-5325ecaddf4c"
   },
   "outputs": [
    {
     "name": "stdout",
     "output_type": "stream",
     "text": [
      "x3 ndim:  3\n",
      "x3 shape: (3, 4, 5)\n",
      "x3 size:  60\n"
     ]
    }
   ],
   "source": [
    "print(\"x3 ndim: \", x3.ndim)\n",
    "print(\"x3 shape:\", x3.shape)\n",
    "print(\"x3 size: \", x3.size)"
   ]
  },
  {
   "cell_type": "code",
   "execution_count": 32,
   "id": "b914f573-cf9c-4041-bc3f-35b2b8788b06",
   "metadata": {
    "colab": {
     "base_uri": "https://localhost:8080/"
    },
    "id": "b914f573-cf9c-4041-bc3f-35b2b8788b06",
    "outputId": "d2af0b70-173a-4ce4-dc8b-07b898fbb741"
   },
   "outputs": [
    {
     "name": "stdout",
     "output_type": "stream",
     "text": [
      "x4 ndim:  4\n",
      "x4 shape: (3, 4, 5, 2)\n",
      "x4 size:  120\n"
     ]
    }
   ],
   "source": [
    "print(\"x4 ndim: \", x4.ndim)\n",
    "print(\"x4 shape:\", x4.shape)\n",
    "print(\"x4 size: \", x4.size)"
   ]
  },
  {
   "cell_type": "markdown",
   "id": "97d01fbf-90d3-48cd-899f-06c5fde018fe",
   "metadata": {
    "id": "97d01fbf-90d3-48cd-899f-06c5fde018fe"
   },
   "source": [
    "Another useful attribute is the ``dtype``, the data type of the array:"
   ]
  },
  {
   "cell_type": "code",
   "execution_count": 33,
   "id": "383ded57-b49e-4662-bf9c-025d32b78295",
   "metadata": {
    "colab": {
     "base_uri": "https://localhost:8080/"
    },
    "collapsed": false,
    "id": "383ded57-b49e-4662-bf9c-025d32b78295",
    "jupyter": {
     "outputs_hidden": false
    },
    "outputId": "35924e90-06c2-4cf7-a95b-4c059f0fc783"
   },
   "outputs": [
    {
     "name": "stdout",
     "output_type": "stream",
     "text": [
      "dtype: int32\n"
     ]
    }
   ],
   "source": [
    "print(\"dtype:\", x3.dtype)"
   ]
  },
  {
   "cell_type": "markdown",
   "id": "192f5bb2-7d2d-400a-ab3e-31f0a331f370",
   "metadata": {
    "id": "192f5bb2-7d2d-400a-ab3e-31f0a331f370"
   },
   "source": [
    "Other attributes include ``itemsize``, which lists the size (in bytes) of each array element, and ``nbytes``, which lists the total size (in bytes) of the array:"
   ]
  },
  {
   "cell_type": "code",
   "execution_count": 34,
   "id": "3c4ffac1-02ed-443a-bdd1-0e1a91c45435",
   "metadata": {
    "colab": {
     "base_uri": "https://localhost:8080/"
    },
    "id": "3c4ffac1-02ed-443a-bdd1-0e1a91c45435",
    "outputId": "7653cc6c-7c65-4503-f6bb-aa3b78e80bec"
   },
   "outputs": [
    {
     "data": {
      "text/plain": [
       "array([[[8, 1, 5, 9, 8],\n",
       "        [9, 4, 3, 0, 3],\n",
       "        [5, 0, 2, 3, 8],\n",
       "        [1, 3, 3, 3, 7]],\n",
       "\n",
       "       [[0, 1, 9, 9, 0],\n",
       "        [4, 7, 3, 2, 7],\n",
       "        [2, 0, 0, 4, 5],\n",
       "        [5, 6, 8, 4, 1]],\n",
       "\n",
       "       [[4, 9, 8, 1, 1],\n",
       "        [7, 9, 9, 3, 6],\n",
       "        [7, 2, 0, 3, 5],\n",
       "        [9, 4, 4, 6, 4]]])"
      ]
     },
     "execution_count": 34,
     "metadata": {},
     "output_type": "execute_result"
    }
   ],
   "source": [
    "x3"
   ]
  },
  {
   "cell_type": "code",
   "execution_count": 35,
   "id": "d2320f6f-409d-4af3-acdc-c996da3c60e6",
   "metadata": {
    "colab": {
     "base_uri": "https://localhost:8080/"
    },
    "collapsed": false,
    "id": "d2320f6f-409d-4af3-acdc-c996da3c60e6",
    "jupyter": {
     "outputs_hidden": false
    },
    "outputId": "56c2236f-bbf0-4caf-9635-7a7f717b7dce"
   },
   "outputs": [
    {
     "name": "stdout",
     "output_type": "stream",
     "text": [
      "itemsize: 4 bytes\n",
      "nbytes: 240 bytes\n"
     ]
    }
   ],
   "source": [
    "print(\"itemsize:\", x3.itemsize, \"bytes\")\n",
    "print(\"nbytes:\", x3.nbytes, \"bytes\")"
   ]
  },
  {
   "cell_type": "code",
   "execution_count": 36,
   "id": "76691276-05ce-47df-bebe-e46e31c48f22",
   "metadata": {
    "colab": {
     "base_uri": "https://localhost:8080/"
    },
    "id": "76691276-05ce-47df-bebe-e46e31c48f22",
    "outputId": "f43fef08-f3f3-4564-b169-a925f70765f1"
   },
   "outputs": [
    {
     "name": "stdout",
     "output_type": "stream",
     "text": [
      "nbytes: 240\n"
     ]
    }
   ],
   "source": [
    "print(\"nbytes:\", x3.itemsize * x3.size)"
   ]
  },
  {
   "cell_type": "markdown",
   "id": "91d71078-99bf-40d5-b044-3c29c2ddb8b9",
   "metadata": {
    "id": "91d71078-99bf-40d5-b044-3c29c2ddb8b9"
   },
   "source": [
    "In general, we expect that ``nbytes`` is equal to ``itemsize`` times ``size``."
   ]
  },
  {
   "cell_type": "markdown",
   "id": "927bfde8-d981-49b5-a7fc-455e385bbfd0",
   "metadata": {
    "id": "927bfde8-d981-49b5-a7fc-455e385bbfd0"
   },
   "source": [
    "### Array Indexing: Accessing Single Elements"
   ]
  },
  {
   "cell_type": "markdown",
   "id": "093fd89d-f593-40f0-80dd-71881072bbe3",
   "metadata": {
    "id": "093fd89d-f593-40f0-80dd-71881072bbe3"
   },
   "source": [
    "If you are familiar with Python's standard list indexing, indexing in NumPy will feel quite familiar.\n",
    "In a one-dimensional array, the $i^{th}$ value (counting from zero) can be accessed by specifying the desired index in square brackets, just as with Python lists:"
   ]
  },
  {
   "cell_type": "code",
   "execution_count": 37,
   "id": "aa05ed31-676b-4183-82d3-7cabbd9a2ee1",
   "metadata": {
    "colab": {
     "base_uri": "https://localhost:8080/"
    },
    "collapsed": false,
    "id": "aa05ed31-676b-4183-82d3-7cabbd9a2ee1",
    "jupyter": {
     "outputs_hidden": false
    },
    "outputId": "33b8693f-6e6b-4ad3-f25e-41767de9a905"
   },
   "outputs": [
    {
     "data": {
      "text/plain": [
       "array([5, 0, 3, 3, 7, 9])"
      ]
     },
     "execution_count": 37,
     "metadata": {},
     "output_type": "execute_result"
    }
   ],
   "source": [
    "x1"
   ]
  },
  {
   "cell_type": "code",
   "execution_count": 38,
   "id": "8ab0c9d9-c39c-4c69-8487-8f56b6e8e0ba",
   "metadata": {
    "colab": {
     "base_uri": "https://localhost:8080/"
    },
    "collapsed": false,
    "id": "8ab0c9d9-c39c-4c69-8487-8f56b6e8e0ba",
    "jupyter": {
     "outputs_hidden": false
    },
    "outputId": "df38ee82-b2a6-4cbc-a02d-420ac30b36b8"
   },
   "outputs": [
    {
     "data": {
      "text/plain": [
       "5"
      ]
     },
     "execution_count": 38,
     "metadata": {},
     "output_type": "execute_result"
    }
   ],
   "source": [
    "x1[0]"
   ]
  },
  {
   "cell_type": "code",
   "execution_count": 39,
   "id": "a921ec22-a274-4a5d-b772-1fe92fca2a43",
   "metadata": {
    "colab": {
     "base_uri": "https://localhost:8080/"
    },
    "collapsed": false,
    "id": "a921ec22-a274-4a5d-b772-1fe92fca2a43",
    "jupyter": {
     "outputs_hidden": false
    },
    "outputId": "2d4bd071-15a4-479f-b8fd-6befc89ce8df"
   },
   "outputs": [
    {
     "data": {
      "text/plain": [
       "7"
      ]
     },
     "execution_count": 39,
     "metadata": {},
     "output_type": "execute_result"
    }
   ],
   "source": [
    "x1[4]"
   ]
  },
  {
   "cell_type": "markdown",
   "id": "1f9db915-e1c5-4539-b4da-fb09bb66ddee",
   "metadata": {
    "id": "1f9db915-e1c5-4539-b4da-fb09bb66ddee"
   },
   "source": [
    "To index from the end of the array, you can use negative indices:"
   ]
  },
  {
   "cell_type": "code",
   "execution_count": 40,
   "id": "dfcd52eb-1cfe-4aff-96c3-083f3205aa09",
   "metadata": {
    "colab": {
     "base_uri": "https://localhost:8080/"
    },
    "collapsed": false,
    "id": "dfcd52eb-1cfe-4aff-96c3-083f3205aa09",
    "jupyter": {
     "outputs_hidden": false
    },
    "outputId": "51ac7658-b3c8-4774-c357-a93fe3092f9d"
   },
   "outputs": [
    {
     "data": {
      "text/plain": [
       "9"
      ]
     },
     "execution_count": 40,
     "metadata": {},
     "output_type": "execute_result"
    }
   ],
   "source": [
    "x1[-1]"
   ]
  },
  {
   "cell_type": "code",
   "execution_count": 41,
   "id": "063565bb-452c-4325-9c69-058bde111fac",
   "metadata": {
    "colab": {
     "base_uri": "https://localhost:8080/"
    },
    "collapsed": false,
    "id": "063565bb-452c-4325-9c69-058bde111fac",
    "jupyter": {
     "outputs_hidden": false
    },
    "outputId": "8a45d595-f709-4561-aa06-8e069b5ffd8c"
   },
   "outputs": [
    {
     "data": {
      "text/plain": [
       "7"
      ]
     },
     "execution_count": 41,
     "metadata": {},
     "output_type": "execute_result"
    }
   ],
   "source": [
    "x1[-2]"
   ]
  },
  {
   "cell_type": "markdown",
   "id": "9c276278-3083-480b-b16c-6483b5b79864",
   "metadata": {
    "id": "9c276278-3083-480b-b16c-6483b5b79864"
   },
   "source": [
    "In a multi-dimensional array, items can be accessed using a comma-separated tuple of indices:"
   ]
  },
  {
   "cell_type": "code",
   "execution_count": 42,
   "id": "949b2869-1e99-4fd8-a1b6-32f035a33732",
   "metadata": {
    "colab": {
     "base_uri": "https://localhost:8080/"
    },
    "collapsed": false,
    "id": "949b2869-1e99-4fd8-a1b6-32f035a33732",
    "jupyter": {
     "outputs_hidden": false
    },
    "outputId": "246bed64-4f3e-4386-e28c-73c3bca0e6ae"
   },
   "outputs": [
    {
     "data": {
      "text/plain": [
       "array([[3, 5, 2, 4],\n",
       "       [7, 6, 8, 8],\n",
       "       [1, 6, 7, 7]])"
      ]
     },
     "execution_count": 42,
     "metadata": {},
     "output_type": "execute_result"
    }
   ],
   "source": [
    "x2"
   ]
  },
  {
   "cell_type": "code",
   "execution_count": 43,
   "id": "5b68689c-3da3-4e9b-bdae-43756c43efed",
   "metadata": {
    "colab": {
     "base_uri": "https://localhost:8080/"
    },
    "collapsed": false,
    "id": "5b68689c-3da3-4e9b-bdae-43756c43efed",
    "jupyter": {
     "outputs_hidden": false
    },
    "outputId": "1fcaeecd-7134-474b-b1e6-238585e78fec"
   },
   "outputs": [
    {
     "data": {
      "text/plain": [
       "3"
      ]
     },
     "execution_count": 43,
     "metadata": {},
     "output_type": "execute_result"
    }
   ],
   "source": [
    "x2[0, 0]"
   ]
  },
  {
   "cell_type": "code",
   "execution_count": 44,
   "id": "88f7a932-ae73-4f9b-81f2-544f2c6498ee",
   "metadata": {
    "colab": {
     "base_uri": "https://localhost:8080/"
    },
    "collapsed": false,
    "id": "88f7a932-ae73-4f9b-81f2-544f2c6498ee",
    "jupyter": {
     "outputs_hidden": false
    },
    "outputId": "0a61cb7c-affb-4105-82d7-f5663dcbeade"
   },
   "outputs": [
    {
     "data": {
      "text/plain": [
       "1"
      ]
     },
     "execution_count": 44,
     "metadata": {},
     "output_type": "execute_result"
    }
   ],
   "source": [
    "x2[2, 0]"
   ]
  },
  {
   "cell_type": "code",
   "execution_count": 45,
   "id": "8cf44905-b0cc-4246-ad74-81a4a5f5213e",
   "metadata": {
    "colab": {
     "base_uri": "https://localhost:8080/"
    },
    "collapsed": false,
    "id": "8cf44905-b0cc-4246-ad74-81a4a5f5213e",
    "jupyter": {
     "outputs_hidden": false
    },
    "outputId": "368d0953-72a5-463e-8643-d2a112ebdbea"
   },
   "outputs": [
    {
     "data": {
      "text/plain": [
       "7"
      ]
     },
     "execution_count": 45,
     "metadata": {},
     "output_type": "execute_result"
    }
   ],
   "source": [
    "x2[2, -1]"
   ]
  },
  {
   "cell_type": "markdown",
   "id": "3173f6e5-f132-41bb-8ffc-d55915c533db",
   "metadata": {
    "id": "3173f6e5-f132-41bb-8ffc-d55915c533db"
   },
   "source": [
    "Values can also be modified using any of the above index notation:"
   ]
  },
  {
   "cell_type": "code",
   "execution_count": 46,
   "id": "1bedeffc-8b05-4bf1-99c6-00baa70bd81e",
   "metadata": {
    "colab": {
     "base_uri": "https://localhost:8080/"
    },
    "collapsed": false,
    "id": "1bedeffc-8b05-4bf1-99c6-00baa70bd81e",
    "jupyter": {
     "outputs_hidden": false
    },
    "outputId": "67db7861-6875-48cf-cedc-56235544eb7e"
   },
   "outputs": [
    {
     "data": {
      "text/plain": [
       "array([[12,  5,  2,  4],\n",
       "       [ 7,  6,  8,  8],\n",
       "       [ 1,  6,  7,  7]])"
      ]
     },
     "execution_count": 46,
     "metadata": {},
     "output_type": "execute_result"
    }
   ],
   "source": [
    "x2[0, 0] = 12\n",
    "x2"
   ]
  },
  {
   "cell_type": "markdown",
   "id": "c602904f-b649-4fc5-a306-7cd241dd5816",
   "metadata": {
    "id": "c602904f-b649-4fc5-a306-7cd241dd5816"
   },
   "source": [
    "Keep in mind that, unlike Python lists, NumPy arrays have a fixed type.\n",
    "This means, for example, that if you attempt to insert a floating-point value to an integer array, the value will be silently truncated. Don't be caught unaware by this behavior!"
   ]
  },
  {
   "cell_type": "code",
   "execution_count": 47,
   "id": "dde6d844-dfc7-4cc4-80cf-4a30d1133d31",
   "metadata": {
    "colab": {
     "base_uri": "https://localhost:8080/"
    },
    "collapsed": false,
    "id": "dde6d844-dfc7-4cc4-80cf-4a30d1133d31",
    "jupyter": {
     "outputs_hidden": false
    },
    "outputId": "c4b9fe32-787e-406b-c3de-a1701fe3c41f"
   },
   "outputs": [
    {
     "data": {
      "text/plain": [
       "array([3, 0, 3, 3, 7, 9])"
      ]
     },
     "execution_count": 47,
     "metadata": {},
     "output_type": "execute_result"
    }
   ],
   "source": [
    "x1[0] = 3.14159  # this will be truncated!\n",
    "x1"
   ]
  },
  {
   "cell_type": "markdown",
   "id": "5a098253-bf94-4b82-926b-b4bde5e7056d",
   "metadata": {
    "id": "5a098253-bf94-4b82-926b-b4bde5e7056d"
   },
   "source": [
    "### Array Slicing: Accessing Subarrays"
   ]
  },
  {
   "cell_type": "markdown",
   "id": "526b0d94-b7d2-4abe-afc8-43d410419e8c",
   "metadata": {
    "id": "526b0d94-b7d2-4abe-afc8-43d410419e8c"
   },
   "source": [
    "Just as we can use square brackets to access individual array elements, we can also use them to access subarrays with the *slice* notation, marked by the colon (``:``) character.\n",
    "The NumPy slicing syntax follows that of the standard Python list; to access a slice of an array ``x``, use this:\n",
    "``` python\n",
    "x[start:stop:step]\n",
    "```\n",
    "If any of these are unspecified, they default to the values ``start=0``, ``stop=``*``size of dimension``*, ``step=1``.\n",
    "We'll take a look at accessing sub-arrays in one dimension and in multiple dimensions."
   ]
  },
  {
   "cell_type": "code",
   "execution_count": 48,
   "id": "8f53a4fc-c482-4cc8-9560-ee486da121e3",
   "metadata": {
    "colab": {
     "base_uri": "https://localhost:8080/"
    },
    "collapsed": false,
    "id": "8f53a4fc-c482-4cc8-9560-ee486da121e3",
    "jupyter": {
     "outputs_hidden": false
    },
    "outputId": "0d432e3f-a501-45aa-8c3c-956086a5299d"
   },
   "outputs": [
    {
     "data": {
      "text/plain": [
       "array([0, 1, 2, 3, 4, 5, 6, 7, 8, 9])"
      ]
     },
     "execution_count": 48,
     "metadata": {},
     "output_type": "execute_result"
    }
   ],
   "source": [
    "x = np.arange(10)\n",
    "x"
   ]
  },
  {
   "cell_type": "code",
   "execution_count": 49,
   "id": "50d7011e-6f89-4041-97c9-5ce21179d708",
   "metadata": {
    "colab": {
     "base_uri": "https://localhost:8080/"
    },
    "collapsed": false,
    "id": "50d7011e-6f89-4041-97c9-5ce21179d708",
    "jupyter": {
     "outputs_hidden": false
    },
    "outputId": "14a8bdd9-3a6c-4342-a918-ba98178a9702"
   },
   "outputs": [
    {
     "data": {
      "text/plain": [
       "array([0, 1, 2, 3, 4])"
      ]
     },
     "execution_count": 49,
     "metadata": {},
     "output_type": "execute_result"
    }
   ],
   "source": [
    "x[:5]  # first five elements"
   ]
  },
  {
   "cell_type": "code",
   "execution_count": 50,
   "id": "dffcefc1-3319-45b5-a4a5-c8eb796a0736",
   "metadata": {
    "colab": {
     "base_uri": "https://localhost:8080/"
    },
    "collapsed": false,
    "id": "dffcefc1-3319-45b5-a4a5-c8eb796a0736",
    "jupyter": {
     "outputs_hidden": false
    },
    "outputId": "0ef69bd2-c98f-4ec9-e58a-2d7f77f08596"
   },
   "outputs": [
    {
     "data": {
      "text/plain": [
       "array([5, 6, 7, 8, 9])"
      ]
     },
     "execution_count": 50,
     "metadata": {},
     "output_type": "execute_result"
    }
   ],
   "source": [
    "x[5:]  # elements after index 5"
   ]
  },
  {
   "cell_type": "code",
   "execution_count": 51,
   "id": "65452136-ffed-4c8b-8c94-3d7e2e337cce",
   "metadata": {
    "colab": {
     "base_uri": "https://localhost:8080/"
    },
    "collapsed": false,
    "id": "65452136-ffed-4c8b-8c94-3d7e2e337cce",
    "jupyter": {
     "outputs_hidden": false
    },
    "outputId": "4063647e-efb5-405a-f6cc-2e051680d1bb"
   },
   "outputs": [
    {
     "data": {
      "text/plain": [
       "array([4, 5, 6])"
      ]
     },
     "execution_count": 51,
     "metadata": {},
     "output_type": "execute_result"
    }
   ],
   "source": [
    "x[4:7]  # middle sub-array"
   ]
  },
  {
   "cell_type": "code",
   "execution_count": 52,
   "id": "5f6dca3e-04db-4b7a-9faa-7ae310cb0bad",
   "metadata": {
    "colab": {
     "base_uri": "https://localhost:8080/"
    },
    "collapsed": false,
    "id": "5f6dca3e-04db-4b7a-9faa-7ae310cb0bad",
    "jupyter": {
     "outputs_hidden": false
    },
    "outputId": "20cd6e2a-acdd-4f7d-9c16-a8c431e1063a"
   },
   "outputs": [
    {
     "data": {
      "text/plain": [
       "array([0, 2, 4, 6, 8])"
      ]
     },
     "execution_count": 52,
     "metadata": {},
     "output_type": "execute_result"
    }
   ],
   "source": [
    "x[::2]  # every other element"
   ]
  },
  {
   "cell_type": "code",
   "execution_count": 53,
   "id": "c9e264d1-5f53-4a87-b633-97070ece8350",
   "metadata": {
    "colab": {
     "base_uri": "https://localhost:8080/"
    },
    "collapsed": false,
    "id": "c9e264d1-5f53-4a87-b633-97070ece8350",
    "jupyter": {
     "outputs_hidden": false
    },
    "outputId": "410a677d-9ede-4912-9e27-9c5624c22fe2"
   },
   "outputs": [
    {
     "data": {
      "text/plain": [
       "array([1, 3, 5, 7, 9])"
      ]
     },
     "execution_count": 53,
     "metadata": {},
     "output_type": "execute_result"
    }
   ],
   "source": [
    "x[1::2]  # every other element, starting at index 1"
   ]
  },
  {
   "cell_type": "markdown",
   "id": "9ade27bd-a776-49aa-8511-1f9f2ecf84e0",
   "metadata": {
    "id": "9ade27bd-a776-49aa-8511-1f9f2ecf84e0"
   },
   "source": [
    "A potentially confusing case is when the ``step`` value is negative.\n",
    "In this case, the defaults for ``start`` and ``stop`` are swapped.\n",
    "This becomes a convenient way to reverse an array:"
   ]
  },
  {
   "cell_type": "code",
   "execution_count": 54,
   "id": "6170263d-5be5-4a44-b2b9-b5ed9b5fbebd",
   "metadata": {
    "colab": {
     "base_uri": "https://localhost:8080/"
    },
    "collapsed": false,
    "id": "6170263d-5be5-4a44-b2b9-b5ed9b5fbebd",
    "jupyter": {
     "outputs_hidden": false
    },
    "outputId": "359e739d-7262-48ca-c982-b3a764ec58e2"
   },
   "outputs": [
    {
     "data": {
      "text/plain": [
       "array([9, 8, 7, 6, 5, 4, 3, 2, 1, 0])"
      ]
     },
     "execution_count": 54,
     "metadata": {},
     "output_type": "execute_result"
    }
   ],
   "source": [
    "x[::-1]  # all elements, reversed"
   ]
  },
  {
   "cell_type": "code",
   "execution_count": 55,
   "id": "b14a81d3-fccb-4e92-848a-647760bb90c1",
   "metadata": {
    "colab": {
     "base_uri": "https://localhost:8080/"
    },
    "collapsed": false,
    "id": "b14a81d3-fccb-4e92-848a-647760bb90c1",
    "jupyter": {
     "outputs_hidden": false
    },
    "outputId": "53e1fb38-be65-4f1e-913d-0afabbb2de94"
   },
   "outputs": [
    {
     "data": {
      "text/plain": [
       "array([5, 3, 1])"
      ]
     },
     "execution_count": 55,
     "metadata": {},
     "output_type": "execute_result"
    }
   ],
   "source": [
    "x[5::-2]  # reversed every other from index 5"
   ]
  },
  {
   "cell_type": "code",
   "execution_count": 56,
   "id": "19416c32-d45f-4c86-939f-71dce5cf6ae6",
   "metadata": {
    "colab": {
     "base_uri": "https://localhost:8080/"
    },
    "collapsed": false,
    "id": "19416c32-d45f-4c86-939f-71dce5cf6ae6",
    "jupyter": {
     "outputs_hidden": false
    },
    "outputId": "bd85be5e-5dbc-4037-a12f-38de73c5a1f8"
   },
   "outputs": [
    {
     "data": {
      "text/plain": [
       "array([[12,  5,  2,  4],\n",
       "       [ 7,  6,  8,  8],\n",
       "       [ 1,  6,  7,  7]])"
      ]
     },
     "execution_count": 56,
     "metadata": {},
     "output_type": "execute_result"
    }
   ],
   "source": [
    "x2"
   ]
  },
  {
   "cell_type": "code",
   "execution_count": 57,
   "id": "88a9442c-20c3-486f-8279-0f9cceaf176e",
   "metadata": {
    "colab": {
     "base_uri": "https://localhost:8080/"
    },
    "collapsed": false,
    "id": "88a9442c-20c3-486f-8279-0f9cceaf176e",
    "jupyter": {
     "outputs_hidden": false
    },
    "outputId": "1d65a46b-18cf-482a-ec1f-de7f9ad60184"
   },
   "outputs": [
    {
     "data": {
      "text/plain": [
       "array([[12,  5,  2],\n",
       "       [ 7,  6,  8]])"
      ]
     },
     "execution_count": 57,
     "metadata": {},
     "output_type": "execute_result"
    }
   ],
   "source": [
    "x2[:2, :3]  # two rows, three columns"
   ]
  },
  {
   "cell_type": "code",
   "execution_count": 58,
   "id": "79d947c6-599a-4a4e-865d-941430fbe018",
   "metadata": {
    "colab": {
     "base_uri": "https://localhost:8080/"
    },
    "collapsed": false,
    "id": "79d947c6-599a-4a4e-865d-941430fbe018",
    "jupyter": {
     "outputs_hidden": false
    },
    "outputId": "fb3d2ca7-cc77-4361-a9b4-aac422781fbf"
   },
   "outputs": [
    {
     "data": {
      "text/plain": [
       "array([[12,  2],\n",
       "       [ 7,  8],\n",
       "       [ 1,  7]])"
      ]
     },
     "execution_count": 58,
     "metadata": {},
     "output_type": "execute_result"
    }
   ],
   "source": [
    "x2[:3, ::2]  # all rows, every other column"
   ]
  },
  {
   "cell_type": "markdown",
   "id": "19254b8d-fc28-49c3-bcc8-f2e14401b266",
   "metadata": {
    "id": "19254b8d-fc28-49c3-bcc8-f2e14401b266"
   },
   "source": [
    "Finally, subarray dimensions can even be reversed together:"
   ]
  },
  {
   "cell_type": "code",
   "execution_count": 59,
   "id": "08280a6d-a7ea-42b6-a163-1e805c0246ea",
   "metadata": {
    "colab": {
     "base_uri": "https://localhost:8080/"
    },
    "collapsed": false,
    "id": "08280a6d-a7ea-42b6-a163-1e805c0246ea",
    "jupyter": {
     "outputs_hidden": false
    },
    "outputId": "1634361e-b07e-44bf-f684-776c0b207676"
   },
   "outputs": [
    {
     "data": {
      "text/plain": [
       "array([[ 7,  7,  6,  1],\n",
       "       [ 8,  8,  6,  7],\n",
       "       [ 4,  2,  5, 12]])"
      ]
     },
     "execution_count": 59,
     "metadata": {},
     "output_type": "execute_result"
    }
   ],
   "source": [
    "x2[::-1, ::-1]"
   ]
  },
  {
   "cell_type": "markdown",
   "id": "ec4826fc-9e1b-417c-9396-a5dc66211d55",
   "metadata": {
    "id": "ec4826fc-9e1b-417c-9396-a5dc66211d55"
   },
   "source": [
    "### Accessing array rows and columns\n",
    "\n",
    "One commonly needed routine is accessing of single rows or columns of an array.\n",
    "This can be done by combining indexing and slicing, using an empty slice marked by a single colon (``:``):"
   ]
  },
  {
   "cell_type": "code",
   "execution_count": 60,
   "id": "b21ca75f-4fd3-486f-8b23-814e1e9bb99c",
   "metadata": {
    "colab": {
     "base_uri": "https://localhost:8080/"
    },
    "collapsed": false,
    "id": "b21ca75f-4fd3-486f-8b23-814e1e9bb99c",
    "jupyter": {
     "outputs_hidden": false
    },
    "outputId": "a440c103-40fa-4bba-bc11-cde70da40788"
   },
   "outputs": [
    {
     "name": "stdout",
     "output_type": "stream",
     "text": [
      "[12  7  1]\n"
     ]
    }
   ],
   "source": [
    "print(x2[:, 0])  # first column of x2"
   ]
  },
  {
   "cell_type": "code",
   "execution_count": 61,
   "id": "949961b1-cf64-4b67-8a19-91c3aa4e1465",
   "metadata": {
    "colab": {
     "base_uri": "https://localhost:8080/"
    },
    "collapsed": false,
    "id": "949961b1-cf64-4b67-8a19-91c3aa4e1465",
    "jupyter": {
     "outputs_hidden": false
    },
    "outputId": "684ec3cb-76a1-45ab-b5e0-e0ba5f21d537"
   },
   "outputs": [
    {
     "name": "stdout",
     "output_type": "stream",
     "text": [
      "[12  5  2  4]\n"
     ]
    }
   ],
   "source": [
    "print(x2[0, :])  # first row of x2"
   ]
  },
  {
   "cell_type": "markdown",
   "id": "b9ad61b6-d06e-4963-9aef-204393703b03",
   "metadata": {
    "id": "b9ad61b6-d06e-4963-9aef-204393703b03"
   },
   "source": [
    "In the case of row access, the empty slice can be omitted for a more compact syntax:"
   ]
  },
  {
   "cell_type": "code",
   "execution_count": 62,
   "id": "b74f6343-45cf-4fc9-b557-65833f2e9dc7",
   "metadata": {
    "colab": {
     "base_uri": "https://localhost:8080/"
    },
    "collapsed": false,
    "id": "b74f6343-45cf-4fc9-b557-65833f2e9dc7",
    "jupyter": {
     "outputs_hidden": false
    },
    "outputId": "539ea5d1-d7fd-489a-b4d9-92ee58408e3f"
   },
   "outputs": [
    {
     "name": "stdout",
     "output_type": "stream",
     "text": [
      "[12  5  2  4]\n"
     ]
    }
   ],
   "source": [
    "print(x2[0])  # equivalent to x2[0, :]"
   ]
  },
  {
   "cell_type": "markdown",
   "id": "6770002f-6f45-44a8-b1fa-ad0844afecc0",
   "metadata": {
    "id": "6770002f-6f45-44a8-b1fa-ad0844afecc0"
   },
   "source": [
    "### Subarrays as no-copy views\n",
    "\n",
    "One important–and extremely useful–thing to know about array slices is that they return *views* rather than *copies* of the array data.\n",
    "This is one area in which NumPy array slicing differs from Python list slicing: in lists, slices will be copies.\n",
    "Consider our two-dimensional array from before:"
   ]
  },
  {
   "cell_type": "code",
   "execution_count": 63,
   "id": "6e342080-794d-4695-9330-e5aa696700db",
   "metadata": {
    "colab": {
     "base_uri": "https://localhost:8080/"
    },
    "collapsed": false,
    "id": "6e342080-794d-4695-9330-e5aa696700db",
    "jupyter": {
     "outputs_hidden": false
    },
    "outputId": "7442d390-cb8e-4d96-8979-4bc7514b9fd9"
   },
   "outputs": [
    {
     "name": "stdout",
     "output_type": "stream",
     "text": [
      "[[12  5  2  4]\n",
      " [ 7  6  8  8]\n",
      " [ 1  6  7  7]]\n"
     ]
    }
   ],
   "source": [
    "print(x2)"
   ]
  },
  {
   "cell_type": "markdown",
   "id": "feb54487-21cb-4401-98c6-0fa6b16e0934",
   "metadata": {
    "id": "feb54487-21cb-4401-98c6-0fa6b16e0934"
   },
   "source": [
    "Let's extract a $2 \\times 2$ subarray from this:"
   ]
  },
  {
   "cell_type": "code",
   "execution_count": 64,
   "id": "295c9280-87c5-4e2b-9d96-098e958c93a3",
   "metadata": {
    "colab": {
     "base_uri": "https://localhost:8080/"
    },
    "collapsed": false,
    "id": "295c9280-87c5-4e2b-9d96-098e958c93a3",
    "jupyter": {
     "outputs_hidden": false
    },
    "outputId": "c895c5db-ede6-4d7b-c26e-f431590cebdf"
   },
   "outputs": [
    {
     "name": "stdout",
     "output_type": "stream",
     "text": [
      "[[12  5]\n",
      " [ 7  6]]\n"
     ]
    }
   ],
   "source": [
    "x2_sub = x2[:2, :2]\n",
    "print(x2_sub)"
   ]
  },
  {
   "cell_type": "markdown",
   "id": "f7eedc48-fef8-49f9-a524-f9a2c23c97cd",
   "metadata": {
    "id": "f7eedc48-fef8-49f9-a524-f9a2c23c97cd"
   },
   "source": [
    "Now if we modify this subarray, we'll see that the original array is changed! Observe:"
   ]
  },
  {
   "cell_type": "code",
   "execution_count": 65,
   "id": "d3bfec52-9990-439a-a447-10a151bff368",
   "metadata": {
    "colab": {
     "base_uri": "https://localhost:8080/"
    },
    "collapsed": false,
    "id": "d3bfec52-9990-439a-a447-10a151bff368",
    "jupyter": {
     "outputs_hidden": false
    },
    "outputId": "38ab8c12-cc2f-4aab-fbd6-e54c2bea39db"
   },
   "outputs": [
    {
     "name": "stdout",
     "output_type": "stream",
     "text": [
      "[[99  5]\n",
      " [ 7  6]]\n"
     ]
    }
   ],
   "source": [
    "x2_sub[0, 0] = 99\n",
    "print(x2_sub)"
   ]
  },
  {
   "cell_type": "code",
   "execution_count": 66,
   "id": "ab602431-94c4-4f8a-b9b1-98ab9c5d15ef",
   "metadata": {
    "colab": {
     "base_uri": "https://localhost:8080/"
    },
    "collapsed": false,
    "id": "ab602431-94c4-4f8a-b9b1-98ab9c5d15ef",
    "jupyter": {
     "outputs_hidden": false
    },
    "outputId": "c7f1aca5-5dea-4204-d1a6-8be8b7b667bd"
   },
   "outputs": [
    {
     "name": "stdout",
     "output_type": "stream",
     "text": [
      "[[99  5  2  4]\n",
      " [ 7  6  8  8]\n",
      " [ 1  6  7  7]]\n"
     ]
    }
   ],
   "source": [
    "print(x2)"
   ]
  },
  {
   "cell_type": "markdown",
   "id": "1ddad1a4-3d11-40d9-98e4-b94914254650",
   "metadata": {
    "id": "1ddad1a4-3d11-40d9-98e4-b94914254650"
   },
   "source": [
    "This default behavior is actually quite useful: it means that when we work with large datasets, we can access and process pieces of these datasets without the need to copy the underlying data buffer."
   ]
  },
  {
   "cell_type": "markdown",
   "id": "7bcb59b4-72fd-417e-adcb-9e5da1452e41",
   "metadata": {
    "id": "7bcb59b4-72fd-417e-adcb-9e5da1452e41"
   },
   "source": [
    "### Creating copies of arrays\n",
    "\n",
    "Despite the nice features of array views, it is sometimes useful to instead explicitly copy the data within an array or a subarray. This can be most easily done with the ``copy()`` method:"
   ]
  },
  {
   "cell_type": "code",
   "execution_count": 67,
   "id": "d1a12424-a877-4e35-b246-24f64bd242f3",
   "metadata": {
    "colab": {
     "base_uri": "https://localhost:8080/"
    },
    "collapsed": false,
    "id": "d1a12424-a877-4e35-b246-24f64bd242f3",
    "jupyter": {
     "outputs_hidden": false
    },
    "outputId": "7a9a1edc-3f10-497b-aff4-6b61f31ceacc"
   },
   "outputs": [
    {
     "name": "stdout",
     "output_type": "stream",
     "text": [
      "[[99  5]\n",
      " [ 7  6]]\n"
     ]
    }
   ],
   "source": [
    "x2_sub_copy = x2[:2, :2].copy()\n",
    "print(x2_sub_copy)"
   ]
  },
  {
   "cell_type": "markdown",
   "id": "0010bd1e-7704-4c76-9a77-7a890a62ce05",
   "metadata": {
    "id": "0010bd1e-7704-4c76-9a77-7a890a62ce05"
   },
   "source": [
    "If we now modify this subarray, the original array is not touched:"
   ]
  },
  {
   "cell_type": "code",
   "execution_count": 68,
   "id": "f788552f-a4f9-4774-9191-16497442cf64",
   "metadata": {
    "colab": {
     "base_uri": "https://localhost:8080/"
    },
    "collapsed": false,
    "id": "f788552f-a4f9-4774-9191-16497442cf64",
    "jupyter": {
     "outputs_hidden": false
    },
    "outputId": "e8d7368a-a628-4ba6-8596-cae29039f2c9"
   },
   "outputs": [
    {
     "name": "stdout",
     "output_type": "stream",
     "text": [
      "[[42  5]\n",
      " [ 7  6]]\n"
     ]
    }
   ],
   "source": [
    "x2_sub_copy[0, 0] = 42\n",
    "print(x2_sub_copy)"
   ]
  },
  {
   "cell_type": "code",
   "execution_count": 69,
   "id": "74c8e24d-2e7c-4354-8176-0de53f02a458",
   "metadata": {
    "colab": {
     "base_uri": "https://localhost:8080/"
    },
    "collapsed": false,
    "id": "74c8e24d-2e7c-4354-8176-0de53f02a458",
    "jupyter": {
     "outputs_hidden": false
    },
    "outputId": "445cf7c8-b192-43a9-dc17-bac929f880a6"
   },
   "outputs": [
    {
     "name": "stdout",
     "output_type": "stream",
     "text": [
      "[[99  5  2  4]\n",
      " [ 7  6  8  8]\n",
      " [ 1  6  7  7]]\n"
     ]
    }
   ],
   "source": [
    "print(x2)"
   ]
  },
  {
   "cell_type": "markdown",
   "id": "082b9f54-c031-4e5a-a373-8f829c77cbb2",
   "metadata": {
    "id": "082b9f54-c031-4e5a-a373-8f829c77cbb2"
   },
   "source": [
    "### Reshaping of Arrays\n",
    "\n",
    "Another useful type of operation is reshaping of arrays.\n",
    "The most flexible way of doing this is with the ``reshape`` method.\n",
    "For example, if you want to put the numbers 1 through 9 in a $3 \\times 3$ grid, you can do the following:"
   ]
  },
  {
   "cell_type": "code",
   "execution_count": 70,
   "id": "dfc2be80-f186-4cec-9d07-cac373c0263f",
   "metadata": {
    "colab": {
     "base_uri": "https://localhost:8080/"
    },
    "collapsed": false,
    "id": "dfc2be80-f186-4cec-9d07-cac373c0263f",
    "jupyter": {
     "outputs_hidden": false
    },
    "outputId": "983110cb-a5df-4d83-848d-7fbd073f2b5b"
   },
   "outputs": [
    {
     "name": "stdout",
     "output_type": "stream",
     "text": [
      "[[1 2 3]\n",
      " [4 5 6]\n",
      " [7 8 9]]\n"
     ]
    }
   ],
   "source": [
    "grid = np.arange(1, 10).reshape((3, 3))\n",
    "print(grid)"
   ]
  },
  {
   "cell_type": "code",
   "execution_count": 71,
   "id": "319dc542-23c9-4ab9-886e-61b8f5936d34",
   "metadata": {
    "colab": {
     "base_uri": "https://localhost:8080/"
    },
    "collapsed": false,
    "id": "319dc542-23c9-4ab9-886e-61b8f5936d34",
    "jupyter": {
     "outputs_hidden": false
    },
    "outputId": "be5f27fb-5dd3-4291-db22-0b38ff2c7e30"
   },
   "outputs": [
    {
     "data": {
      "text/plain": [
       "array([[1, 2, 3]])"
      ]
     },
     "execution_count": 71,
     "metadata": {},
     "output_type": "execute_result"
    }
   ],
   "source": [
    "x = np.array([1, 2, 3])\n",
    "\n",
    "# row vector via reshape\n",
    "x.reshape((1, 3))"
   ]
  },
  {
   "cell_type": "code",
   "execution_count": 72,
   "id": "0ed8eb3d-ae64-4a75-9774-c50a0ccc7e09",
   "metadata": {
    "colab": {
     "base_uri": "https://localhost:8080/"
    },
    "collapsed": false,
    "id": "0ed8eb3d-ae64-4a75-9774-c50a0ccc7e09",
    "jupyter": {
     "outputs_hidden": false
    },
    "outputId": "3eadabf9-a159-4896-9421-5c760603c8d4"
   },
   "outputs": [
    {
     "data": {
      "text/plain": [
       "array([[1, 2, 3]])"
      ]
     },
     "execution_count": 72,
     "metadata": {},
     "output_type": "execute_result"
    }
   ],
   "source": [
    "# row vector via newaxis\n",
    "x[np.newaxis, :]"
   ]
  },
  {
   "cell_type": "code",
   "execution_count": 73,
   "id": "55e0d2e0-854a-4d4e-8842-33d85dd83730",
   "metadata": {
    "colab": {
     "base_uri": "https://localhost:8080/"
    },
    "collapsed": false,
    "id": "55e0d2e0-854a-4d4e-8842-33d85dd83730",
    "jupyter": {
     "outputs_hidden": false
    },
    "outputId": "3f9b8485-8f47-46f7-bb49-caf9fb9a3211"
   },
   "outputs": [
    {
     "data": {
      "text/plain": [
       "array([[1],\n",
       "       [2],\n",
       "       [3]])"
      ]
     },
     "execution_count": 73,
     "metadata": {},
     "output_type": "execute_result"
    }
   ],
   "source": [
    "# column vector via reshape\n",
    "x.reshape((3, 1))"
   ]
  },
  {
   "cell_type": "code",
   "execution_count": 74,
   "id": "bc78305a-3579-40eb-8f0b-3b20af416fb4",
   "metadata": {
    "colab": {
     "base_uri": "https://localhost:8080/"
    },
    "collapsed": false,
    "id": "bc78305a-3579-40eb-8f0b-3b20af416fb4",
    "jupyter": {
     "outputs_hidden": false
    },
    "outputId": "49b27047-5f1d-4d66-b663-7ebed795a62d"
   },
   "outputs": [
    {
     "data": {
      "text/plain": [
       "array([[1],\n",
       "       [2],\n",
       "       [3]])"
      ]
     },
     "execution_count": 74,
     "metadata": {},
     "output_type": "execute_result"
    }
   ],
   "source": [
    "# column vector via newaxis\n",
    "x[:, np.newaxis]"
   ]
  },
  {
   "cell_type": "markdown",
   "id": "498aea69-9d1f-4964-9873-83cc87632ccc",
   "metadata": {
    "id": "498aea69-9d1f-4964-9873-83cc87632ccc"
   },
   "source": [
    "### Array Concatenation and Splitting"
   ]
  },
  {
   "cell_type": "markdown",
   "id": "e58161ab-7f87-47aa-a889-ee319fd52842",
   "metadata": {
    "id": "e58161ab-7f87-47aa-a889-ee319fd52842"
   },
   "source": [
    "### Concatenation of arrays\n",
    "\n",
    "Concatenation, or joining of two arrays in NumPy, is primarily accomplished using the routines ``np.concatenate``, ``np.vstack``, and ``np.hstack``.\n",
    "``np.concatenate`` takes a tuple or list of arrays as its first argument, as we can see here:"
   ]
  },
  {
   "cell_type": "code",
   "execution_count": 75,
   "id": "c99fb49b-1fde-41b4-9d80-71a2b619f9f5",
   "metadata": {
    "colab": {
     "base_uri": "https://localhost:8080/"
    },
    "collapsed": false,
    "id": "c99fb49b-1fde-41b4-9d80-71a2b619f9f5",
    "jupyter": {
     "outputs_hidden": false
    },
    "outputId": "033bc2d8-1b81-42d8-f56b-44895316bbd0"
   },
   "outputs": [
    {
     "data": {
      "text/plain": [
       "array([1, 2, 3, 3, 2, 1])"
      ]
     },
     "execution_count": 75,
     "metadata": {},
     "output_type": "execute_result"
    }
   ],
   "source": [
    "x = np.array([1, 2, 3])\n",
    "y = np.array([3, 2, 1])\n",
    "np.concatenate([x, y])"
   ]
  },
  {
   "cell_type": "markdown",
   "id": "3dc4b4bc-dc48-45af-ba5e-1b6ccd47f2eb",
   "metadata": {
    "id": "3dc4b4bc-dc48-45af-ba5e-1b6ccd47f2eb"
   },
   "source": [
    "You can also concatenate more than two arrays at once:"
   ]
  },
  {
   "cell_type": "code",
   "execution_count": 76,
   "id": "bfa627d0-7e28-41e4-86b2-77e068da0bf6",
   "metadata": {
    "colab": {
     "base_uri": "https://localhost:8080/"
    },
    "collapsed": false,
    "id": "bfa627d0-7e28-41e4-86b2-77e068da0bf6",
    "jupyter": {
     "outputs_hidden": false
    },
    "outputId": "7f70ee49-dbe0-4c38-880a-0fd8b0c4fae7"
   },
   "outputs": [
    {
     "name": "stdout",
     "output_type": "stream",
     "text": [
      "[ 1  2  3  3  2  1 99 99 99]\n"
     ]
    }
   ],
   "source": [
    "z = [99, 99, 99]\n",
    "print(np.concatenate([x, y, z]))"
   ]
  },
  {
   "cell_type": "markdown",
   "id": "cf2a44d2-72d7-4dce-81a5-bb9b0f55f007",
   "metadata": {
    "id": "cf2a44d2-72d7-4dce-81a5-bb9b0f55f007"
   },
   "source": [
    "It can also be used for two-dimensional arrays:"
   ]
  },
  {
   "cell_type": "code",
   "execution_count": 77,
   "id": "cc7ffefd-d1ec-4ebd-9de6-2230d4043483",
   "metadata": {
    "collapsed": false,
    "id": "cc7ffefd-d1ec-4ebd-9de6-2230d4043483",
    "jupyter": {
     "outputs_hidden": false
    }
   },
   "outputs": [],
   "source": [
    "grid = np.array([[1, 2, 3],\n",
    "                 [4, 5, 6]])"
   ]
  },
  {
   "cell_type": "code",
   "execution_count": 78,
   "id": "b6a630b7-9805-44a4-9baf-bdc6d9fae215",
   "metadata": {
    "colab": {
     "base_uri": "https://localhost:8080/"
    },
    "collapsed": false,
    "id": "b6a630b7-9805-44a4-9baf-bdc6d9fae215",
    "jupyter": {
     "outputs_hidden": false
    },
    "outputId": "0a36c909-8671-4ba4-db7f-9a3fd7970509"
   },
   "outputs": [
    {
     "data": {
      "text/plain": [
       "array([[1, 2, 3],\n",
       "       [4, 5, 6],\n",
       "       [1, 2, 3],\n",
       "       [4, 5, 6]])"
      ]
     },
     "execution_count": 78,
     "metadata": {},
     "output_type": "execute_result"
    }
   ],
   "source": [
    "# concatenate along the first axis\n",
    "np.concatenate([grid, grid])"
   ]
  },
  {
   "cell_type": "code",
   "execution_count": 79,
   "id": "7e62cb9b-26fb-423a-93c1-7fdd3f9ebf0c",
   "metadata": {
    "colab": {
     "base_uri": "https://localhost:8080/"
    },
    "collapsed": false,
    "id": "7e62cb9b-26fb-423a-93c1-7fdd3f9ebf0c",
    "jupyter": {
     "outputs_hidden": false
    },
    "outputId": "adb8f304-8861-4697-bccb-8b167f0db679"
   },
   "outputs": [
    {
     "data": {
      "text/plain": [
       "array([[1, 2, 3, 1, 2, 3],\n",
       "       [4, 5, 6, 4, 5, 6]])"
      ]
     },
     "execution_count": 79,
     "metadata": {},
     "output_type": "execute_result"
    }
   ],
   "source": [
    "# concatenate along the second axis (zero-indexed)\n",
    "np.concatenate([grid, grid], axis=1)"
   ]
  },
  {
   "cell_type": "markdown",
   "id": "00fd02aa-ad12-4b85-808c-54698d130b5e",
   "metadata": {
    "id": "00fd02aa-ad12-4b85-808c-54698d130b5e"
   },
   "source": [
    "For working with arrays of mixed dimensions, it can be clearer to use the ``np.vstack`` (vertical stack) and ``np.hstack`` (horizontal stack) functions:"
   ]
  },
  {
   "cell_type": "code",
   "execution_count": 80,
   "id": "8c21af68-7537-4b3e-940d-2ca6db3a41b1",
   "metadata": {
    "colab": {
     "base_uri": "https://localhost:8080/"
    },
    "collapsed": false,
    "id": "8c21af68-7537-4b3e-940d-2ca6db3a41b1",
    "jupyter": {
     "outputs_hidden": false
    },
    "outputId": "b621477a-02fb-49b2-fbb6-6e2859cc3743"
   },
   "outputs": [
    {
     "data": {
      "text/plain": [
       "array([[1, 2, 3],\n",
       "       [9, 8, 7],\n",
       "       [6, 5, 4]])"
      ]
     },
     "execution_count": 80,
     "metadata": {},
     "output_type": "execute_result"
    }
   ],
   "source": [
    "x = np.array([1, 2, 3])\n",
    "grid = np.array([[9, 8, 7],\n",
    "                 [6, 5, 4]])\n",
    "\n",
    "# vertically stack the arrays\n",
    "np.vstack([x, grid])"
   ]
  },
  {
   "cell_type": "code",
   "execution_count": 81,
   "id": "57382456-7b83-46c5-a2ec-1ceeefb13a6e",
   "metadata": {
    "colab": {
     "base_uri": "https://localhost:8080/"
    },
    "collapsed": false,
    "id": "57382456-7b83-46c5-a2ec-1ceeefb13a6e",
    "jupyter": {
     "outputs_hidden": false
    },
    "outputId": "695f4a9a-e3c3-425b-8df0-56ff7595a12f"
   },
   "outputs": [
    {
     "data": {
      "text/plain": [
       "array([[ 9,  8,  7, 99],\n",
       "       [ 6,  5,  4, 99]])"
      ]
     },
     "execution_count": 81,
     "metadata": {},
     "output_type": "execute_result"
    }
   ],
   "source": [
    "# horizontally stack the arrays\n",
    "y = np.array([[99],\n",
    "              [99]])\n",
    "np.hstack([grid, y])"
   ]
  },
  {
   "cell_type": "markdown",
   "id": "fff45956-a4e8-4b80-a8ea-ad018fbdc6e9",
   "metadata": {
    "id": "fff45956-a4e8-4b80-a8ea-ad018fbdc6e9"
   },
   "source": [
    "Similary, ``np.dstack`` will stack arrays along the third axis."
   ]
  },
  {
   "cell_type": "markdown",
   "id": "4cd27a82-9df1-4cdb-ab60-ac6abfdb7458",
   "metadata": {
    "id": "4cd27a82-9df1-4cdb-ab60-ac6abfdb7458"
   },
   "source": [
    "### Splitting of arrays\n",
    "\n",
    "The opposite of concatenation is splitting, which is implemented by the functions ``np.split``, ``np.hsplit``, and ``np.vsplit``.  For each of these, we can pass a list of indices giving the split points:"
   ]
  },
  {
   "cell_type": "code",
   "execution_count": 82,
   "id": "38945773-2674-424c-833d-71f178d4fad4",
   "metadata": {
    "colab": {
     "base_uri": "https://localhost:8080/"
    },
    "collapsed": false,
    "id": "38945773-2674-424c-833d-71f178d4fad4",
    "jupyter": {
     "outputs_hidden": false
    },
    "outputId": "fd5a38c1-1946-4185-8e8e-99d72428eeab"
   },
   "outputs": [
    {
     "name": "stdout",
     "output_type": "stream",
     "text": [
      "[1 2 3] [99 99] [3 2 1]\n"
     ]
    }
   ],
   "source": [
    "x = [1, 2, 3, 99, 99, 3, 2, 1]\n",
    "x1, x2, x3 = np.split(x, [3, 5])\n",
    "print(x1, x2, x3)"
   ]
  },
  {
   "cell_type": "markdown",
   "id": "fe2937ba-32c7-4b08-98bf-f692c04fe652",
   "metadata": {
    "id": "fe2937ba-32c7-4b08-98bf-f692c04fe652"
   },
   "source": [
    "Notice that *N* split-points, leads to *N + 1* subarrays.\n",
    "The related functions ``np.hsplit`` and ``np.vsplit`` are similar:"
   ]
  },
  {
   "cell_type": "code",
   "execution_count": 83,
   "id": "b953b767-e536-47e8-891a-f1610e0f118b",
   "metadata": {
    "colab": {
     "base_uri": "https://localhost:8080/"
    },
    "collapsed": false,
    "id": "b953b767-e536-47e8-891a-f1610e0f118b",
    "jupyter": {
     "outputs_hidden": false
    },
    "outputId": "7bffd87c-e467-45fd-c175-faac1e4fc71b"
   },
   "outputs": [
    {
     "data": {
      "text/plain": [
       "array([[ 0,  1,  2,  3],\n",
       "       [ 4,  5,  6,  7],\n",
       "       [ 8,  9, 10, 11],\n",
       "       [12, 13, 14, 15]])"
      ]
     },
     "execution_count": 83,
     "metadata": {},
     "output_type": "execute_result"
    }
   ],
   "source": [
    "grid = np.arange(16).reshape((4, 4))\n",
    "grid"
   ]
  },
  {
   "cell_type": "code",
   "execution_count": 84,
   "id": "683514ac-7393-4285-909e-10f146daab8c",
   "metadata": {
    "colab": {
     "base_uri": "https://localhost:8080/"
    },
    "collapsed": false,
    "id": "683514ac-7393-4285-909e-10f146daab8c",
    "jupyter": {
     "outputs_hidden": false
    },
    "outputId": "f25768f1-e92c-4722-8d1e-b11c26494bcc"
   },
   "outputs": [
    {
     "name": "stdout",
     "output_type": "stream",
     "text": [
      "[[0 1 2 3]\n",
      " [4 5 6 7]]\n",
      "[[ 8  9 10 11]\n",
      " [12 13 14 15]]\n"
     ]
    }
   ],
   "source": [
    "upper, lower = np.vsplit(grid, [2])\n",
    "print(upper)\n",
    "print(lower)"
   ]
  },
  {
   "cell_type": "code",
   "execution_count": 85,
   "id": "4efb7f0c-f546-4fab-b073-87eca8a8dca3",
   "metadata": {
    "colab": {
     "base_uri": "https://localhost:8080/"
    },
    "collapsed": false,
    "id": "4efb7f0c-f546-4fab-b073-87eca8a8dca3",
    "jupyter": {
     "outputs_hidden": false
    },
    "outputId": "f927fbf4-22f9-489e-ecce-5f0be478386c"
   },
   "outputs": [
    {
     "name": "stdout",
     "output_type": "stream",
     "text": [
      "[[ 0  1]\n",
      " [ 4  5]\n",
      " [ 8  9]\n",
      " [12 13]]\n",
      "[[ 2  3]\n",
      " [ 6  7]\n",
      " [10 11]\n",
      " [14 15]]\n"
     ]
    }
   ],
   "source": [
    "left, right = np.hsplit(grid, [2])\n",
    "print(left)\n",
    "print(right)"
   ]
  },
  {
   "cell_type": "markdown",
   "id": "85a7c0e8-5d63-4d55-8813-56b77e36a6e1",
   "metadata": {
    "id": "85a7c0e8-5d63-4d55-8813-56b77e36a6e1"
   },
   "source": [
    "Similarly, ``np.dsplit`` will split arrays along the third axis."
   ]
  },
  {
   "cell_type": "markdown",
   "id": "d2304f7f-d6ec-4330-bce8-165e444d82d7",
   "metadata": {
    "id": "d2304f7f-d6ec-4330-bce8-165e444d82d7"
   },
   "source": [
    "## Computation on NumPy Arrays: Universal Functions"
   ]
  },
  {
   "cell_type": "code",
   "execution_count": 86,
   "id": "57494395-8d9a-409d-9a79-a499f19976f8",
   "metadata": {
    "colab": {
     "base_uri": "https://localhost:8080/"
    },
    "collapsed": false,
    "id": "57494395-8d9a-409d-9a79-a499f19976f8",
    "jupyter": {
     "outputs_hidden": false
    },
    "outputId": "6ce30242-1a63-405d-d509-fd1d10bae4d8"
   },
   "outputs": [
    {
     "data": {
      "text/plain": [
       "array([0.16666667, 1.        , 0.25      , 0.25      , 0.125     ])"
      ]
     },
     "execution_count": 86,
     "metadata": {},
     "output_type": "execute_result"
    }
   ],
   "source": [
    "np.random.seed(0)\n",
    "def compute_reciprocals(values):\n",
    "    output = np.empty(len(values))\n",
    "    for i in range(len(values)):\n",
    "        output[i] = 1.0 / values[i]\n",
    "    return output\n",
    "        \n",
    "values = np.random.randint(1, 10, size=5)\n",
    "compute_reciprocals(values)"
   ]
  },
  {
   "cell_type": "code",
   "execution_count": 87,
   "id": "e36ad10d-83e6-495c-8cb4-1feab6bc3ca5",
   "metadata": {
    "colab": {
     "base_uri": "https://localhost:8080/"
    },
    "collapsed": false,
    "id": "e36ad10d-83e6-495c-8cb4-1feab6bc3ca5",
    "jupyter": {
     "outputs_hidden": false
    },
    "outputId": "87f01db3-c0e9-49ff-8b39-9564ce658515"
   },
   "outputs": [
    {
     "name": "stdout",
     "output_type": "stream",
     "text": [
      "10.8 s ± 2.67 s per loop (mean ± std. dev. of 7 runs, 1 loop each)\n"
     ]
    }
   ],
   "source": [
    "big_array = np.random.randint(1, 100, size=1000000)\n",
    "%timeit compute_reciprocals(big_array)"
   ]
  },
  {
   "cell_type": "code",
   "execution_count": 88,
   "id": "fde8995c-23f0-49d5-8b91-0859719f8a6c",
   "metadata": {
    "colab": {
     "base_uri": "https://localhost:8080/"
    },
    "collapsed": false,
    "id": "fde8995c-23f0-49d5-8b91-0859719f8a6c",
    "jupyter": {
     "outputs_hidden": false
    },
    "outputId": "999de60c-ca5a-4407-c33b-4aef9f97c130"
   },
   "outputs": [
    {
     "name": "stdout",
     "output_type": "stream",
     "text": [
      "[0.16666667 1.         0.25       0.25       0.125     ]\n",
      "[0.16666667 1.         0.25       0.25       0.125     ]\n"
     ]
    }
   ],
   "source": [
    "print(compute_reciprocals(values))\n",
    "print(1.0 / values)"
   ]
  },
  {
   "cell_type": "code",
   "execution_count": 89,
   "id": "59b0ab09-0134-445f-968a-ca60a5e7f7c8",
   "metadata": {
    "colab": {
     "base_uri": "https://localhost:8080/"
    },
    "collapsed": false,
    "id": "59b0ab09-0134-445f-968a-ca60a5e7f7c8",
    "jupyter": {
     "outputs_hidden": false
    },
    "outputId": "9571db20-e639-4523-f85f-c00995d59726"
   },
   "outputs": [
    {
     "name": "stdout",
     "output_type": "stream",
     "text": [
      "The history saving thread hit an unexpected error (OperationalError('database is locked')).History will not be written to the database.\n",
      "25.8 ms ± 6.37 ms per loop (mean ± std. dev. of 7 runs, 100 loops each)\n"
     ]
    }
   ],
   "source": [
    "%timeit (1.0 / big_array)"
   ]
  },
  {
   "cell_type": "code",
   "execution_count": 90,
   "id": "7cb652ca-f573-425c-b251-de6f79337ba4",
   "metadata": {
    "colab": {
     "base_uri": "https://localhost:8080/"
    },
    "collapsed": false,
    "id": "7cb652ca-f573-425c-b251-de6f79337ba4",
    "jupyter": {
     "outputs_hidden": false
    },
    "outputId": "f9adf8cb-dee5-4fc9-a4bb-100b3d3d90f4"
   },
   "outputs": [
    {
     "data": {
      "text/plain": [
       "array([0.        , 0.5       , 0.66666667, 0.75      , 0.8       ])"
      ]
     },
     "execution_count": 90,
     "metadata": {},
     "output_type": "execute_result"
    }
   ],
   "source": [
    "np.arange(5) / np.arange(1, 6)"
   ]
  },
  {
   "cell_type": "code",
   "execution_count": 91,
   "id": "7658f2ab-5841-4236-a013-3724ec792753",
   "metadata": {
    "colab": {
     "base_uri": "https://localhost:8080/"
    },
    "collapsed": false,
    "id": "7658f2ab-5841-4236-a013-3724ec792753",
    "jupyter": {
     "outputs_hidden": false
    },
    "outputId": "c281c2cc-4dfa-4379-d6d8-98a4c6e4ea63"
   },
   "outputs": [
    {
     "data": {
      "text/plain": [
       "array([[  1,   2,   4],\n",
       "       [  8,  16,  32],\n",
       "       [ 64, 128, 256]], dtype=int32)"
      ]
     },
     "execution_count": 91,
     "metadata": {},
     "output_type": "execute_result"
    }
   ],
   "source": [
    "x = np.arange(9).reshape((3, 3))\n",
    "2 ** x"
   ]
  },
  {
   "cell_type": "markdown",
   "id": "19493f64-284e-4559-b1eb-70c58fdffcf5",
   "metadata": {
    "id": "19493f64-284e-4559-b1eb-70c58fdffcf5"
   },
   "source": [
    "### Array arithmetic\n",
    "\n",
    "NumPy's ufuncs feel very natural to use because they make use of Python's native arithmetic operators.\n",
    "The standard addition, subtraction, multiplication, and division can all be used:"
   ]
  },
  {
   "cell_type": "code",
   "execution_count": 92,
   "id": "859e4438-f7a2-4beb-8a09-6015656fd6a4",
   "metadata": {
    "colab": {
     "base_uri": "https://localhost:8080/"
    },
    "collapsed": false,
    "id": "859e4438-f7a2-4beb-8a09-6015656fd6a4",
    "jupyter": {
     "outputs_hidden": false
    },
    "outputId": "4c082f51-a685-45de-adce-d486989e1125"
   },
   "outputs": [
    {
     "name": "stdout",
     "output_type": "stream",
     "text": [
      "x     = [0 1 2 3]\n",
      "x + 5 = [5 6 7 8]\n",
      "x - 5 = [-5 -4 -3 -2]\n",
      "x * 2 = [0 2 4 6]\n",
      "x / 2 = [0.  0.5 1.  1.5]\n",
      "x // 2 = [0 0 1 1]\n"
     ]
    }
   ],
   "source": [
    "x = np.arange(4)\n",
    "print(\"x     =\", x)\n",
    "print(\"x + 5 =\", x + 5)\n",
    "print(\"x - 5 =\", x - 5)\n",
    "print(\"x * 2 =\", x * 2)\n",
    "print(\"x / 2 =\", x / 2)\n",
    "print(\"x // 2 =\", x // 2)  # floor division"
   ]
  },
  {
   "cell_type": "markdown",
   "id": "32fe15bd-b782-4178-8be5-0a519c91a1fb",
   "metadata": {
    "id": "32fe15bd-b782-4178-8be5-0a519c91a1fb"
   },
   "source": [
    "There is also a unary ufunc for negation, and a ``**`` operator for exponentiation, and a ``%`` operator for modulus:"
   ]
  },
  {
   "cell_type": "code",
   "execution_count": 93,
   "id": "0e764449-7707-49f3-a7bd-847d25ca7cf0",
   "metadata": {
    "colab": {
     "base_uri": "https://localhost:8080/"
    },
    "collapsed": false,
    "id": "0e764449-7707-49f3-a7bd-847d25ca7cf0",
    "jupyter": {
     "outputs_hidden": false
    },
    "outputId": "b3696568-6080-4131-dc39-c3b98464bfaa"
   },
   "outputs": [
    {
     "name": "stdout",
     "output_type": "stream",
     "text": [
      "-x     =  [ 0 -1 -2 -3]\n",
      "x ** 2 =  [0 1 4 9]\n",
      "x % 2  =  [0 1 0 1]\n"
     ]
    }
   ],
   "source": [
    "print(\"-x     = \", -x)\n",
    "print(\"x ** 2 = \", x ** 2)\n",
    "print(\"x % 2  = \", x % 2)"
   ]
  },
  {
   "cell_type": "markdown",
   "id": "b10f7b5f-63be-4b80-8bc6-27b8032e27a1",
   "metadata": {
    "id": "b10f7b5f-63be-4b80-8bc6-27b8032e27a1"
   },
   "source": [
    "In addition, these can be strung together however you wish, and the standard order of operations is respected:"
   ]
  },
  {
   "cell_type": "code",
   "execution_count": 94,
   "id": "3b35ca16-0019-461a-8d82-b67dff501e1b",
   "metadata": {
    "colab": {
     "base_uri": "https://localhost:8080/"
    },
    "collapsed": false,
    "id": "3b35ca16-0019-461a-8d82-b67dff501e1b",
    "jupyter": {
     "outputs_hidden": false
    },
    "outputId": "a690ce13-fcd3-4306-fe7f-746fcdac63e0"
   },
   "outputs": [
    {
     "data": {
      "text/plain": [
       "array([-1.  , -2.25, -4.  , -6.25])"
      ]
     },
     "execution_count": 94,
     "metadata": {},
     "output_type": "execute_result"
    }
   ],
   "source": [
    "-(0.5*x + 1) ** 2"
   ]
  },
  {
   "cell_type": "markdown",
   "id": "ef6dcd57-f888-448d-9a9c-441fd3042222",
   "metadata": {
    "id": "ef6dcd57-f888-448d-9a9c-441fd3042222"
   },
   "source": [
    "Each of these arithmetic operations are simply convenient wrappers around specific functions built into NumPy; for example, the ``+`` operator is a wrapper for the ``add`` function:"
   ]
  },
  {
   "cell_type": "code",
   "execution_count": 95,
   "id": "d5a3076a-eee9-4538-acf1-3ccf71f7f7c4",
   "metadata": {
    "colab": {
     "base_uri": "https://localhost:8080/"
    },
    "collapsed": false,
    "id": "d5a3076a-eee9-4538-acf1-3ccf71f7f7c4",
    "jupyter": {
     "outputs_hidden": false
    },
    "outputId": "ecb3dd2f-a0b9-4286-a727-b10ebf22a8b2"
   },
   "outputs": [
    {
     "data": {
      "text/plain": [
       "array([2, 3, 4, 5])"
      ]
     },
     "execution_count": 95,
     "metadata": {},
     "output_type": "execute_result"
    }
   ],
   "source": [
    "np.add(x, 2)"
   ]
  },
  {
   "cell_type": "markdown",
   "id": "a676271c-9b12-4d3c-bafa-f4e84070893b",
   "metadata": {
    "id": "a676271c-9b12-4d3c-bafa-f4e84070893b"
   },
   "source": [
    "The following table lists the arithmetic operators implemented in NumPy:\n",
    "\n",
    "| Operator\t    | Equivalent ufunc    | Description                           |\n",
    "|---------------|---------------------|---------------------------------------|\n",
    "|``+``          |``np.add``           |Addition (e.g., ``1 + 1 = 2``)         |\n",
    "|``-``          |``np.subtract``      |Subtraction (e.g., ``3 - 2 = 1``)      |\n",
    "|``-``          |``np.negative``      |Unary negation (e.g., ``-2``)          |\n",
    "|``*``          |``np.multiply``      |Multiplication (e.g., ``2 * 3 = 6``)   |\n",
    "|``/``          |``np.divide``        |Division (e.g., ``3 / 2 = 1.5``)       |\n",
    "|``//``         |``np.floor_divide``  |Floor division (e.g., ``3 // 2 = 1``)  |\n",
    "|``**``         |``np.power``         |Exponentiation (e.g., ``2 ** 3 = 8``)  |\n",
    "|``%``          |``np.mod``           |Modulus/remainder (e.g., ``9 % 4 = 1``)|"
   ]
  },
  {
   "cell_type": "markdown",
   "id": "778c362e-7553-4547-b665-c0431db59954",
   "metadata": {
    "id": "778c362e-7553-4547-b665-c0431db59954"
   },
   "source": [
    "### Absolute value\n",
    "\n",
    "Just as NumPy understands Python's built-in arithmetic operators, it also understands Python's built-in absolute value function:"
   ]
  },
  {
   "cell_type": "code",
   "execution_count": 96,
   "id": "187ef9b7-1731-4b0b-b7b5-148e922b3fec",
   "metadata": {
    "colab": {
     "base_uri": "https://localhost:8080/"
    },
    "collapsed": false,
    "id": "187ef9b7-1731-4b0b-b7b5-148e922b3fec",
    "jupyter": {
     "outputs_hidden": false
    },
    "outputId": "a79903ae-c21f-44fe-89af-08740b99714f"
   },
   "outputs": [
    {
     "data": {
      "text/plain": [
       "array([2, 1, 0, 1, 2])"
      ]
     },
     "execution_count": 96,
     "metadata": {},
     "output_type": "execute_result"
    }
   ],
   "source": [
    "x = np.array([-2, -1, 0, 1, 2])\n",
    "abs(x)"
   ]
  },
  {
   "cell_type": "markdown",
   "id": "750fbb7b-d90f-4215-a058-f568fda01f35",
   "metadata": {
    "id": "750fbb7b-d90f-4215-a058-f568fda01f35"
   },
   "source": [
    "The corresponding NumPy ufunc is ``np.absolute``, which is also available under the alias ``np.abs``:"
   ]
  },
  {
   "cell_type": "code",
   "execution_count": 97,
   "id": "68dc2732-0273-40b4-85c7-ea9ae457bad8",
   "metadata": {
    "colab": {
     "base_uri": "https://localhost:8080/"
    },
    "collapsed": false,
    "id": "68dc2732-0273-40b4-85c7-ea9ae457bad8",
    "jupyter": {
     "outputs_hidden": false
    },
    "outputId": "654f0af7-e6d6-49d7-a307-d37a23c5571e"
   },
   "outputs": [
    {
     "data": {
      "text/plain": [
       "array([2, 1, 0, 1, 2])"
      ]
     },
     "execution_count": 97,
     "metadata": {},
     "output_type": "execute_result"
    }
   ],
   "source": [
    "np.absolute(x)"
   ]
  },
  {
   "cell_type": "code",
   "execution_count": 98,
   "id": "bbc16f56-ac6b-4dbf-ab9e-255afc02c102",
   "metadata": {
    "colab": {
     "base_uri": "https://localhost:8080/"
    },
    "collapsed": false,
    "id": "bbc16f56-ac6b-4dbf-ab9e-255afc02c102",
    "jupyter": {
     "outputs_hidden": false
    },
    "outputId": "cc17c809-631d-46da-c2cf-b4f63219a14c"
   },
   "outputs": [
    {
     "data": {
      "text/plain": [
       "array([2, 1, 0, 1, 2])"
      ]
     },
     "execution_count": 98,
     "metadata": {},
     "output_type": "execute_result"
    }
   ],
   "source": [
    "np.abs(x)"
   ]
  },
  {
   "cell_type": "markdown",
   "id": "4097b45b-f797-4472-9f58-1b6f1f261303",
   "metadata": {
    "id": "4097b45b-f797-4472-9f58-1b6f1f261303"
   },
   "source": [
    "This ufunc can also handle complex data, in which the absolute value returns the magnitude:"
   ]
  },
  {
   "cell_type": "code",
   "execution_count": 99,
   "id": "93ab5182-c262-4b59-bf83-77766a491685",
   "metadata": {
    "colab": {
     "base_uri": "https://localhost:8080/"
    },
    "collapsed": false,
    "id": "93ab5182-c262-4b59-bf83-77766a491685",
    "jupyter": {
     "outputs_hidden": false
    },
    "outputId": "bd14305f-ec06-4dac-e0d2-d199e79c4f0d"
   },
   "outputs": [
    {
     "data": {
      "text/plain": [
       "array([5., 5., 2., 1.])"
      ]
     },
     "execution_count": 99,
     "metadata": {},
     "output_type": "execute_result"
    }
   ],
   "source": [
    "x = np.array([3 - 4j, 4 - 3j, 2 + 0j, 0 + 1j])\n",
    "np.abs(x)"
   ]
  },
  {
   "cell_type": "markdown",
   "id": "6934887c-cbc3-443d-af8f-0dd8c5693b08",
   "metadata": {
    "id": "6934887c-cbc3-443d-af8f-0dd8c5693b08"
   },
   "source": [
    "### Trigonometric functions\n",
    "\n",
    "NumPy provides a large number of useful ufuncs, and some of the most useful for the data scientist are the trigonometric functions.\n",
    "We'll start by defining an array of angles:"
   ]
  },
  {
   "cell_type": "code",
   "execution_count": 100,
   "id": "c6823894-efda-40f2-af3b-6e395a49c2b0",
   "metadata": {
    "collapsed": false,
    "id": "c6823894-efda-40f2-af3b-6e395a49c2b0",
    "jupyter": {
     "outputs_hidden": false
    }
   },
   "outputs": [],
   "source": [
    "theta = np.linspace(0, np.pi, 3)"
   ]
  },
  {
   "cell_type": "markdown",
   "id": "2fec2075-01f1-496e-b96b-3739c7aaef96",
   "metadata": {
    "id": "2fec2075-01f1-496e-b96b-3739c7aaef96"
   },
   "source": [
    "Now we can compute some trigonometric functions on these values:"
   ]
  },
  {
   "cell_type": "code",
   "execution_count": 101,
   "id": "1f2d7b95-eab4-4dbf-9203-ca8fbccbc28b",
   "metadata": {
    "colab": {
     "base_uri": "https://localhost:8080/"
    },
    "collapsed": false,
    "id": "1f2d7b95-eab4-4dbf-9203-ca8fbccbc28b",
    "jupyter": {
     "outputs_hidden": false
    },
    "outputId": "494e024d-d37b-4575-ae67-76723f8d1eab"
   },
   "outputs": [
    {
     "name": "stdout",
     "output_type": "stream",
     "text": [
      "theta      =  [0.         1.57079633 3.14159265]\n",
      "sin(theta) =  [0.0000000e+00 1.0000000e+00 1.2246468e-16]\n",
      "cos(theta) =  [ 1.000000e+00  6.123234e-17 -1.000000e+00]\n",
      "tan(theta) =  [ 0.00000000e+00  1.63312394e+16 -1.22464680e-16]\n"
     ]
    }
   ],
   "source": [
    "print(\"theta      = \", theta)\n",
    "print(\"sin(theta) = \", np.sin(theta))\n",
    "print(\"cos(theta) = \", np.cos(theta))\n",
    "print(\"tan(theta) = \", np.tan(theta))"
   ]
  },
  {
   "cell_type": "markdown",
   "id": "d155b725-a88a-450f-bc90-dce8bd1ac5d8",
   "metadata": {
    "id": "d155b725-a88a-450f-bc90-dce8bd1ac5d8"
   },
   "source": [
    "The values are computed to within machine precision, which is why values that should be zero do not always hit exactly zero.\n",
    "Inverse trigonometric functions are also available:"
   ]
  },
  {
   "cell_type": "code",
   "execution_count": 102,
   "id": "c3083c3c-649a-4172-9d01-7f7bbb1203b2",
   "metadata": {
    "colab": {
     "base_uri": "https://localhost:8080/"
    },
    "collapsed": false,
    "id": "c3083c3c-649a-4172-9d01-7f7bbb1203b2",
    "jupyter": {
     "outputs_hidden": false
    },
    "outputId": "e46b248a-eb9e-42f7-9008-8f97b436365f"
   },
   "outputs": [
    {
     "name": "stdout",
     "output_type": "stream",
     "text": [
      "x         =  [-1, 0, 1]\n",
      "arcsin(x) =  [-1.57079633  0.          1.57079633]\n",
      "arccos(x) =  [3.14159265 1.57079633 0.        ]\n",
      "arctan(x) =  [-0.78539816  0.          0.78539816]\n"
     ]
    }
   ],
   "source": [
    "x = [-1, 0, 1]\n",
    "print(\"x         = \", x)\n",
    "print(\"arcsin(x) = \", np.arcsin(x))\n",
    "print(\"arccos(x) = \", np.arccos(x))\n",
    "print(\"arctan(x) = \", np.arctan(x))"
   ]
  },
  {
   "cell_type": "markdown",
   "id": "df05a1e4-b0b3-4167-a0cf-1e4bbc6a6cce",
   "metadata": {
    "id": "df05a1e4-b0b3-4167-a0cf-1e4bbc6a6cce"
   },
   "source": [
    "### Exponents and logarithms\n",
    "\n",
    "Another common type of operation available in a NumPy ufunc are the exponentials:"
   ]
  },
  {
   "cell_type": "code",
   "execution_count": 103,
   "id": "ae1eafad-16e9-4c18-9a26-32fd48c07ab6",
   "metadata": {
    "colab": {
     "base_uri": "https://localhost:8080/"
    },
    "collapsed": false,
    "id": "ae1eafad-16e9-4c18-9a26-32fd48c07ab6",
    "jupyter": {
     "outputs_hidden": false
    },
    "outputId": "2070fc12-4bb8-4a7b-c784-3ac4ed478f0b"
   },
   "outputs": [
    {
     "name": "stdout",
     "output_type": "stream",
     "text": [
      "x     = [1, 2, 3]\n",
      "e^x   = [ 2.71828183  7.3890561  20.08553692]\n",
      "2^x   = [2. 4. 8.]\n",
      "3^x   = [ 3  9 27]\n"
     ]
    }
   ],
   "source": [
    "x = [1, 2, 3]\n",
    "print(\"x     =\", x)\n",
    "print(\"e^x   =\", np.exp(x))\n",
    "print(\"2^x   =\", np.exp2(x))\n",
    "print(\"3^x   =\", np.power(3, x))"
   ]
  },
  {
   "cell_type": "markdown",
   "id": "1fa9f394-33f0-45ae-89d3-a43746246eb1",
   "metadata": {
    "id": "1fa9f394-33f0-45ae-89d3-a43746246eb1"
   },
   "source": [
    "The inverse of the exponentials, the logarithms, are also available.\n",
    "The basic ``np.log`` gives the natural logarithm; if you prefer to compute the base-2 logarithm or the base-10 logarithm, these are available as well:"
   ]
  },
  {
   "cell_type": "code",
   "execution_count": 104,
   "id": "830b0fb6-5ffc-4d00-bd2a-49414b6c3980",
   "metadata": {
    "colab": {
     "base_uri": "https://localhost:8080/"
    },
    "collapsed": false,
    "id": "830b0fb6-5ffc-4d00-bd2a-49414b6c3980",
    "jupyter": {
     "outputs_hidden": false
    },
    "outputId": "68f6ae7b-d3f7-40fb-9e04-742c21669321"
   },
   "outputs": [
    {
     "name": "stdout",
     "output_type": "stream",
     "text": [
      "x        = [1, 2, 4, 10]\n",
      "ln(x)    = [0.         0.69314718 1.38629436 2.30258509]\n",
      "log2(x)  = [0.         1.         2.         3.32192809]\n",
      "log10(x) = [0.         0.30103    0.60205999 1.        ]\n"
     ]
    }
   ],
   "source": [
    "x = [1, 2, 4, 10]\n",
    "print(\"x        =\", x)\n",
    "print(\"ln(x)    =\", np.log(x))\n",
    "print(\"log2(x)  =\", np.log2(x))\n",
    "print(\"log10(x) =\", np.log10(x))"
   ]
  },
  {
   "cell_type": "markdown",
   "id": "f872de0b-ce57-4a73-8894-fa0bf43f1a9a",
   "metadata": {
    "id": "f872de0b-ce57-4a73-8894-fa0bf43f1a9a"
   },
   "source": [
    "There are also some specialized versions that are useful for maintaining precision with very small input:"
   ]
  },
  {
   "cell_type": "code",
   "execution_count": 105,
   "id": "31e2caa2-1b1a-43bc-bbbc-7e0018dc86ce",
   "metadata": {
    "colab": {
     "base_uri": "https://localhost:8080/"
    },
    "collapsed": false,
    "id": "31e2caa2-1b1a-43bc-bbbc-7e0018dc86ce",
    "jupyter": {
     "outputs_hidden": false
    },
    "outputId": "7ce3c59b-8055-410f-b90a-0492fba2ac83"
   },
   "outputs": [
    {
     "name": "stdout",
     "output_type": "stream",
     "text": [
      "exp(x) - 1 = [0.         0.0010005  0.01005017 0.10517092]\n",
      "log(1 + x) = [0.         0.0009995  0.00995033 0.09531018]\n"
     ]
    }
   ],
   "source": [
    "x = [0, 0.001, 0.01, 0.1]\n",
    "print(\"exp(x) - 1 =\", np.expm1(x))\n",
    "print(\"log(1 + x) =\", np.log1p(x))"
   ]
  },
  {
   "cell_type": "markdown",
   "id": "8f7acb46-6ced-4339-9856-39918f76fd46",
   "metadata": {
    "id": "8f7acb46-6ced-4339-9856-39918f76fd46"
   },
   "source": [
    "When ``x`` is very small, these functions give more precise values than if the raw ``np.log`` or ``np.exp`` were to be used."
   ]
  },
  {
   "cell_type": "markdown",
   "id": "d0f22378-921d-4c1f-b105-cdb1fad89d60",
   "metadata": {
    "id": "d0f22378-921d-4c1f-b105-cdb1fad89d60"
   },
   "source": [
    "### Specialized ufuncs\n",
    "\n",
    "NumPy has many more ufuncs available, including hyperbolic trig functions, bitwise arithmetic, comparison operators, conversions from radians to degrees, rounding and remainders, and much more.\n",
    "A look through the NumPy documentation reveals a lot of interesting functionality.\n",
    "\n",
    "Another excellent source for more specialized and obscure ufuncs is the submodule ``scipy.special``.\n",
    "If you want to compute some obscure mathematical function on your data, chances are it is implemented in ``scipy.special``.\n",
    "There are far too many functions to list them all, but the following snippet shows a couple that might come up in a statistics context:"
   ]
  },
  {
   "cell_type": "code",
   "execution_count": 106,
   "id": "82574c1e-ea7f-4eaf-888d-d494d9dae244",
   "metadata": {
    "collapsed": false,
    "id": "82574c1e-ea7f-4eaf-888d-d494d9dae244",
    "jupyter": {
     "outputs_hidden": false
    }
   },
   "outputs": [],
   "source": [
    "from scipy import special"
   ]
  },
  {
   "cell_type": "code",
   "execution_count": 107,
   "id": "775c8559-7ef6-47e8-b8c3-59f3eb634fa6",
   "metadata": {
    "colab": {
     "base_uri": "https://localhost:8080/"
    },
    "collapsed": false,
    "id": "775c8559-7ef6-47e8-b8c3-59f3eb634fa6",
    "jupyter": {
     "outputs_hidden": false
    },
    "outputId": "c99bc97f-858d-48b6-d0c8-d0bc11786758"
   },
   "outputs": [
    {
     "name": "stdout",
     "output_type": "stream",
     "text": [
      "gamma(x)     = [1.0000e+00 2.4000e+01 3.6288e+05]\n",
      "ln|gamma(x)| = [ 0.          3.17805383 12.80182748]\n",
      "beta(x, 2)   = [0.5        0.03333333 0.00909091]\n"
     ]
    }
   ],
   "source": [
    "# Gamma functions (generalized factorials) and related functions\n",
    "x = [1, 5, 10]\n",
    "print(\"gamma(x)     =\", special.gamma(x))\n",
    "print(\"ln|gamma(x)| =\", special.gammaln(x))\n",
    "print(\"beta(x, 2)   =\", special.beta(x, 2))"
   ]
  },
  {
   "cell_type": "code",
   "execution_count": 108,
   "id": "ce4ec992-0b72-4f40-b37a-82fa2f8e2f4f",
   "metadata": {
    "colab": {
     "base_uri": "https://localhost:8080/"
    },
    "collapsed": false,
    "id": "ce4ec992-0b72-4f40-b37a-82fa2f8e2f4f",
    "jupyter": {
     "outputs_hidden": false
    },
    "outputId": "c6960605-5af8-47b1-fef3-6cd3578f7499"
   },
   "outputs": [
    {
     "name": "stdout",
     "output_type": "stream",
     "text": [
      "erf(x)  = [0.         0.32862676 0.67780119 0.84270079]\n",
      "erfc(x) = [1.         0.67137324 0.32219881 0.15729921]\n",
      "erfinv(x) = [0.         0.27246271 0.73286908        inf]\n"
     ]
    }
   ],
   "source": [
    "# Error function (integral of Gaussian)\n",
    "# its complement, and its inverse\n",
    "x = np.array([0, 0.3, 0.7, 1.0])\n",
    "print(\"erf(x)  =\", special.erf(x))\n",
    "print(\"erfc(x) =\", special.erfc(x))\n",
    "print(\"erfinv(x) =\", special.erfinv(x))"
   ]
  },
  {
   "cell_type": "markdown",
   "id": "224a3ab6-e4bc-425b-b5e1-d8bfc72eb012",
   "metadata": {
    "id": "224a3ab6-e4bc-425b-b5e1-d8bfc72eb012"
   },
   "source": [
    "### Aggregates\n",
    "\n",
    "For binary ufuncs, there are some interesting aggregates that can be computed directly from the object.\n",
    "For example, if we'd like to *reduce* an array with a particular operation, we can use the ``reduce`` method of any ufunc.\n",
    "A reduce repeatedly applies a given operation to the elements of an array until only a single result remains.\n",
    "\n",
    "For example, calling ``reduce`` on the ``add`` ufunc returns the sum of all elements in the array:"
   ]
  },
  {
   "cell_type": "code",
   "execution_count": 109,
   "id": "8afcfa45-d8c8-4eb7-b640-df390610c50c",
   "metadata": {
    "colab": {
     "base_uri": "https://localhost:8080/"
    },
    "collapsed": false,
    "id": "8afcfa45-d8c8-4eb7-b640-df390610c50c",
    "jupyter": {
     "outputs_hidden": false
    },
    "outputId": "67b85f16-458c-48a9-d6d5-33a27225a9a9"
   },
   "outputs": [
    {
     "data": {
      "text/plain": [
       "15"
      ]
     },
     "execution_count": 109,
     "metadata": {},
     "output_type": "execute_result"
    }
   ],
   "source": [
    "x = np.arange(1, 6)\n",
    "np.add.reduce(x)"
   ]
  },
  {
   "cell_type": "markdown",
   "id": "2af0b862-ceb2-43d6-b9d5-80d39b35eeca",
   "metadata": {
    "id": "2af0b862-ceb2-43d6-b9d5-80d39b35eeca"
   },
   "source": [
    "Similarly, calling ``reduce`` on the ``multiply`` ufunc results in the product of all array elements:"
   ]
  },
  {
   "cell_type": "code",
   "execution_count": 110,
   "id": "ffb73727-b71d-419a-a1f4-6eefdbc71fa7",
   "metadata": {
    "colab": {
     "base_uri": "https://localhost:8080/"
    },
    "collapsed": false,
    "id": "ffb73727-b71d-419a-a1f4-6eefdbc71fa7",
    "jupyter": {
     "outputs_hidden": false
    },
    "outputId": "a80f43c4-15d3-4bed-f9bf-34c64bfaa025"
   },
   "outputs": [
    {
     "data": {
      "text/plain": [
       "120"
      ]
     },
     "execution_count": 110,
     "metadata": {},
     "output_type": "execute_result"
    }
   ],
   "source": [
    "np.multiply.reduce(x)"
   ]
  },
  {
   "cell_type": "markdown",
   "id": "d3725ffd-9558-42cd-a94e-b2fb5cd4a0ce",
   "metadata": {
    "id": "d3725ffd-9558-42cd-a94e-b2fb5cd4a0ce"
   },
   "source": [
    "If we'd like to store all the intermediate results of the computation, we can instead use ``accumulate``:"
   ]
  },
  {
   "cell_type": "code",
   "execution_count": 111,
   "id": "eab1cb4d-36ce-4fd0-8ded-d5f2ffa52ad0",
   "metadata": {
    "colab": {
     "base_uri": "https://localhost:8080/"
    },
    "collapsed": false,
    "id": "eab1cb4d-36ce-4fd0-8ded-d5f2ffa52ad0",
    "jupyter": {
     "outputs_hidden": false
    },
    "outputId": "97cdf9f1-a89c-4c08-e83d-8b45a1caca0e"
   },
   "outputs": [
    {
     "data": {
      "text/plain": [
       "array([ 1,  3,  6, 10, 15])"
      ]
     },
     "execution_count": 111,
     "metadata": {},
     "output_type": "execute_result"
    }
   ],
   "source": [
    "np.add.accumulate(x)"
   ]
  },
  {
   "cell_type": "code",
   "execution_count": 112,
   "id": "9b89a04c-59ae-47ab-a757-58ca3aec66fa",
   "metadata": {
    "colab": {
     "base_uri": "https://localhost:8080/"
    },
    "collapsed": false,
    "id": "9b89a04c-59ae-47ab-a757-58ca3aec66fa",
    "jupyter": {
     "outputs_hidden": false
    },
    "outputId": "65bcd7bc-cbd0-4f97-f51b-46fa1fb89df8"
   },
   "outputs": [
    {
     "data": {
      "text/plain": [
       "array([  1,   2,   6,  24, 120])"
      ]
     },
     "execution_count": 112,
     "metadata": {},
     "output_type": "execute_result"
    }
   ],
   "source": [
    "np.multiply.accumulate(x)"
   ]
  },
  {
   "cell_type": "markdown",
   "id": "26fd0b4b-321d-4121-b0b1-7903398c3d0f",
   "metadata": {
    "id": "26fd0b4b-321d-4121-b0b1-7903398c3d0f"
   },
   "source": [
    "## Aggregations: Min, Max, and Everything In Between"
   ]
  },
  {
   "cell_type": "markdown",
   "id": "8dfffbac-2840-44d2-a9c5-b10b97e23e45",
   "metadata": {
    "id": "8dfffbac-2840-44d2-a9c5-b10b97e23e45"
   },
   "source": [
    "### Summing the Values in an Array\n",
    "\n",
    "As a quick example, consider computing the sum of all values in an array.\n",
    "Python itself can do this using the built-in ``sum`` function:"
   ]
  },
  {
   "cell_type": "code",
   "execution_count": 113,
   "id": "15cc99f7-4848-4e42-8f7b-741f55388de8",
   "metadata": {
    "colab": {
     "base_uri": "https://localhost:8080/"
    },
    "collapsed": false,
    "id": "15cc99f7-4848-4e42-8f7b-741f55388de8",
    "jupyter": {
     "outputs_hidden": false
    },
    "outputId": "8fa212e7-877a-4166-9656-a68a27172ddb"
   },
   "outputs": [
    {
     "data": {
      "text/plain": [
       "50.461758453195614"
      ]
     },
     "execution_count": 113,
     "metadata": {},
     "output_type": "execute_result"
    }
   ],
   "source": [
    "L = np.random.random(100)\n",
    "sum(L)"
   ]
  },
  {
   "cell_type": "markdown",
   "id": "a05dc495-998e-465b-b261-78f8d1180810",
   "metadata": {
    "id": "a05dc495-998e-465b-b261-78f8d1180810"
   },
   "source": [
    "The syntax is quite similar to that of NumPy's ``sum`` function, and the result is the same in the simplest case:"
   ]
  },
  {
   "cell_type": "code",
   "execution_count": 114,
   "id": "3d60b495-b99f-4983-a708-63f985960a8a",
   "metadata": {
    "colab": {
     "base_uri": "https://localhost:8080/"
    },
    "collapsed": false,
    "id": "3d60b495-b99f-4983-a708-63f985960a8a",
    "jupyter": {
     "outputs_hidden": false
    },
    "outputId": "0940eca5-1642-4431-ae53-4d01c88e7694"
   },
   "outputs": [
    {
     "data": {
      "text/plain": [
       "50.46175845319564"
      ]
     },
     "execution_count": 114,
     "metadata": {},
     "output_type": "execute_result"
    }
   ],
   "source": [
    "np.sum(L)"
   ]
  },
  {
   "cell_type": "markdown",
   "id": "617b0c09-caa1-4f79-b036-caf02dc11018",
   "metadata": {
    "id": "617b0c09-caa1-4f79-b036-caf02dc11018"
   },
   "source": [
    "However, because it executes the operation in compiled code, NumPy's version of the operation is computed much more quickly:"
   ]
  },
  {
   "cell_type": "code",
   "execution_count": 115,
   "id": "c72bbb43-3fc5-433f-829f-afe37a463499",
   "metadata": {
    "colab": {
     "base_uri": "https://localhost:8080/"
    },
    "collapsed": false,
    "id": "c72bbb43-3fc5-433f-829f-afe37a463499",
    "jupyter": {
     "outputs_hidden": false
    },
    "outputId": "d58d94c0-ccf0-4f0e-ba09-be039dc85b55"
   },
   "outputs": [
    {
     "name": "stdout",
     "output_type": "stream",
     "text": [
      "468 ms ± 92.1 ms per loop (mean ± std. dev. of 7 runs, 1 loop each)\n",
      "6.68 ms ± 898 µs per loop (mean ± std. dev. of 7 runs, 100 loops each)\n"
     ]
    }
   ],
   "source": [
    "big_array = np.random.rand(1000000)\n",
    "%timeit sum(big_array)\n",
    "%timeit np.sum(big_array)"
   ]
  },
  {
   "cell_type": "markdown",
   "id": "c302b2f2-69cd-4b59-935b-d6f2a76e8570",
   "metadata": {
    "id": "c302b2f2-69cd-4b59-935b-d6f2a76e8570"
   },
   "source": [
    "Be careful, though: the ``sum`` function and the ``np.sum`` function are not identical, which can sometimes lead to confusion!\n",
    "In particular, their optional arguments have different meanings, and ``np.sum`` is aware of multiple array dimensions, as we will see in the following section."
   ]
  },
  {
   "cell_type": "markdown",
   "id": "fcf584c4-0efe-4a6d-88c9-2dc607b98d7a",
   "metadata": {
    "id": "fcf584c4-0efe-4a6d-88c9-2dc607b98d7a"
   },
   "source": [
    "### Minimum and Maximum\n",
    "\n",
    "Similarly, Python has built-in ``min`` and ``max`` functions, used to find the minimum value and maximum value of any given array:"
   ]
  },
  {
   "cell_type": "code",
   "execution_count": 116,
   "id": "7c0f59a3-6b29-4711-aa57-12764fe5ca10",
   "metadata": {
    "colab": {
     "base_uri": "https://localhost:8080/"
    },
    "collapsed": false,
    "id": "7c0f59a3-6b29-4711-aa57-12764fe5ca10",
    "jupyter": {
     "outputs_hidden": false
    },
    "outputId": "52a971ca-5a43-4404-e4f4-f7c1eeeb9319"
   },
   "outputs": [
    {
     "data": {
      "text/plain": [
       "(7.071203171893359e-07, 0.9999997207656334)"
      ]
     },
     "execution_count": 116,
     "metadata": {},
     "output_type": "execute_result"
    }
   ],
   "source": [
    "min(big_array), max(big_array)"
   ]
  },
  {
   "cell_type": "markdown",
   "id": "d25c3d3b-0d39-43c9-b093-6677346afed2",
   "metadata": {
    "id": "d25c3d3b-0d39-43c9-b093-6677346afed2"
   },
   "source": [
    "NumPy's corresponding functions have similar syntax, and again operate much more quickly:"
   ]
  },
  {
   "cell_type": "code",
   "execution_count": 117,
   "id": "22aecc21-7a06-4e2e-a9e2-fcc3f081aafd",
   "metadata": {
    "colab": {
     "base_uri": "https://localhost:8080/"
    },
    "collapsed": false,
    "id": "22aecc21-7a06-4e2e-a9e2-fcc3f081aafd",
    "jupyter": {
     "outputs_hidden": false
    },
    "outputId": "9370ef0e-a9c7-4c2c-f50c-cc2f89a97c93"
   },
   "outputs": [
    {
     "data": {
      "text/plain": [
       "(7.071203171893359e-07, 0.9999997207656334)"
      ]
     },
     "execution_count": 117,
     "metadata": {},
     "output_type": "execute_result"
    }
   ],
   "source": [
    "np.min(big_array), np.max(big_array)"
   ]
  },
  {
   "cell_type": "code",
   "execution_count": 118,
   "id": "b8cc231b-1bf1-4dd1-8e80-be4d5b685c10",
   "metadata": {
    "colab": {
     "base_uri": "https://localhost:8080/"
    },
    "collapsed": false,
    "id": "b8cc231b-1bf1-4dd1-8e80-be4d5b685c10",
    "jupyter": {
     "outputs_hidden": false
    },
    "outputId": "c88ce465-b1ec-4b0b-be8e-e7f6550cedd4"
   },
   "outputs": [
    {
     "name": "stdout",
     "output_type": "stream",
     "text": [
      "355 ms ± 104 ms per loop (mean ± std. dev. of 7 runs, 1 loop each)\n",
      "2.95 ms ± 539 µs per loop (mean ± std. dev. of 7 runs, 100 loops each)\n"
     ]
    }
   ],
   "source": [
    "%timeit min(big_array)\n",
    "%timeit np.min(big_array)"
   ]
  },
  {
   "cell_type": "markdown",
   "id": "d3d3bbb9-b302-47d7-82f6-f5cceb8ef588",
   "metadata": {
    "id": "d3d3bbb9-b302-47d7-82f6-f5cceb8ef588"
   },
   "source": [
    "For ``min``, ``max``, ``sum``, and several other NumPy aggregates, a shorter syntax is to use methods of the array object itself:"
   ]
  },
  {
   "cell_type": "code",
   "execution_count": 119,
   "id": "8638c72b-a7d4-45ac-9cd3-58abb406b786",
   "metadata": {
    "colab": {
     "base_uri": "https://localhost:8080/"
    },
    "collapsed": false,
    "id": "8638c72b-a7d4-45ac-9cd3-58abb406b786",
    "jupyter": {
     "outputs_hidden": false
    },
    "outputId": "7d7f24f9-862b-4a0a-97ae-3ba9357b6359"
   },
   "outputs": [
    {
     "name": "stdout",
     "output_type": "stream",
     "text": [
      "7.071203171893359e-07 0.9999997207656334 500216.8034810001\n"
     ]
    }
   ],
   "source": [
    "print(big_array.min(), big_array.max(), big_array.sum())"
   ]
  },
  {
   "cell_type": "markdown",
   "id": "43a24243-ea61-4ef3-bf7c-e6cd13062b2a",
   "metadata": {
    "id": "43a24243-ea61-4ef3-bf7c-e6cd13062b2a"
   },
   "source": [
    "Whenever possible, make sure that you are using the NumPy version of these aggregates when operating on NumPy arrays!"
   ]
  },
  {
   "cell_type": "markdown",
   "id": "d6f23364-8718-4457-a7aa-f200c6cf01cd",
   "metadata": {
    "id": "d6f23364-8718-4457-a7aa-f200c6cf01cd"
   },
   "source": [
    "### Multi dimensional aggregates\n",
    "\n",
    "One common type of aggregation operation is an aggregate along a row or column.\n",
    "Say you have some data stored in a two-dimensional array:"
   ]
  },
  {
   "cell_type": "code",
   "execution_count": 120,
   "id": "2757e0b1-6de1-4548-be7d-892142118147",
   "metadata": {
    "colab": {
     "base_uri": "https://localhost:8080/"
    },
    "collapsed": false,
    "id": "2757e0b1-6de1-4548-be7d-892142118147",
    "jupyter": {
     "outputs_hidden": false
    },
    "outputId": "aca4a40e-677c-4468-aad8-2f9e69696f05"
   },
   "outputs": [
    {
     "name": "stdout",
     "output_type": "stream",
     "text": [
      "[[0.79832448 0.44923861 0.95274259 0.03193135]\n",
      " [0.18441813 0.71417358 0.76371195 0.11957117]\n",
      " [0.37578601 0.11936151 0.37497044 0.22944653]]\n"
     ]
    }
   ],
   "source": [
    "M = np.random.random((3, 4))\n",
    "print(M)"
   ]
  },
  {
   "cell_type": "markdown",
   "id": "d414c23e-291a-471a-a760-ed344d048dbc",
   "metadata": {
    "id": "d414c23e-291a-471a-a760-ed344d048dbc"
   },
   "source": [
    "By default, each NumPy aggregation function will return the aggregate over the entire array:"
   ]
  },
  {
   "cell_type": "code",
   "execution_count": 121,
   "id": "61cdc3d0-ee1a-44a1-8b2d-a7e6463451f5",
   "metadata": {
    "colab": {
     "base_uri": "https://localhost:8080/"
    },
    "collapsed": false,
    "id": "61cdc3d0-ee1a-44a1-8b2d-a7e6463451f5",
    "jupyter": {
     "outputs_hidden": false
    },
    "outputId": "86042adc-fc62-46c5-97e1-6d18abf16a08"
   },
   "outputs": [
    {
     "data": {
      "text/plain": [
       "5.1136763453287335"
      ]
     },
     "execution_count": 121,
     "metadata": {},
     "output_type": "execute_result"
    }
   ],
   "source": [
    "M.sum()"
   ]
  },
  {
   "cell_type": "markdown",
   "id": "da47d75d-5c78-4b45-8e67-ec97afbfdafa",
   "metadata": {
    "id": "da47d75d-5c78-4b45-8e67-ec97afbfdafa"
   },
   "source": [
    "Aggregation functions take an additional argument specifying the *axis* along which the aggregate is computed. For example, we can find the minimum value within each column by specifying ``axis=0``:"
   ]
  },
  {
   "cell_type": "code",
   "execution_count": 122,
   "id": "711802a7-e066-4c6b-a9bf-edb3f53ee792",
   "metadata": {
    "colab": {
     "base_uri": "https://localhost:8080/"
    },
    "collapsed": false,
    "id": "711802a7-e066-4c6b-a9bf-edb3f53ee792",
    "jupyter": {
     "outputs_hidden": false
    },
    "outputId": "3f2662e2-37fe-4e09-bb44-36a44167aee0"
   },
   "outputs": [
    {
     "data": {
      "text/plain": [
       "array([0.18441813, 0.11936151, 0.37497044, 0.03193135])"
      ]
     },
     "execution_count": 122,
     "metadata": {},
     "output_type": "execute_result"
    }
   ],
   "source": [
    "M.min(axis=0)"
   ]
  },
  {
   "cell_type": "markdown",
   "id": "048fd4b7-d044-491c-8c34-879e7f1ada7e",
   "metadata": {
    "id": "048fd4b7-d044-491c-8c34-879e7f1ada7e"
   },
   "source": [
    "The function returns four values, corresponding to the four columns of numbers.\n",
    "\n",
    "Similarly, we can find the maximum value within each row:"
   ]
  },
  {
   "cell_type": "code",
   "execution_count": 123,
   "id": "a699faa9-940d-44e5-bcd0-337a2d213959",
   "metadata": {
    "colab": {
     "base_uri": "https://localhost:8080/"
    },
    "collapsed": false,
    "id": "a699faa9-940d-44e5-bcd0-337a2d213959",
    "jupyter": {
     "outputs_hidden": false
    },
    "outputId": "36c6f2ee-5c9e-4d7e-8ada-e7b84f9752f8"
   },
   "outputs": [
    {
     "data": {
      "text/plain": [
       "array([0.95274259, 0.76371195, 0.37578601])"
      ]
     },
     "execution_count": 123,
     "metadata": {},
     "output_type": "execute_result"
    }
   ],
   "source": [
    "M.max(axis=1)"
   ]
  },
  {
   "cell_type": "markdown",
   "id": "bfda840b-8694-4f49-9efc-17546b220b9e",
   "metadata": {
    "id": "bfda840b-8694-4f49-9efc-17546b220b9e"
   },
   "source": [
    "### Other aggregation functions\n",
    "\n",
    "The following table provides a list of useful aggregation functions available in NumPy:\n",
    "\n",
    "|Function Name      |   NaN-safe Version  | Description                                   |\n",
    "|-------------------|---------------------|-----------------------------------------------|\n",
    "| ``np.sum``        | ``np.nansum``       | Compute sum of elements                       |\n",
    "| ``np.prod``       | ``np.nanprod``      | Compute product of elements                   |\n",
    "| ``np.mean``       | ``np.nanmean``      | Compute mean of elements                      |\n",
    "| ``np.std``        | ``np.nanstd``       | Compute standard deviation                    |\n",
    "| ``np.var``        | ``np.nanvar``       | Compute variance                              |\n",
    "| ``np.min``        | ``np.nanmin``       | Find minimum value                            |\n",
    "| ``np.max``        | ``np.nanmax``       | Find maximum value                            |\n",
    "| ``np.argmin``     | ``np.nanargmin``    | Find index of minimum value                   |\n",
    "| ``np.argmax``     | ``np.nanargmax``    | Find index of maximum value                   |\n",
    "| ``np.median``     | ``np.nanmedian``    | Compute median of elements                    |\n",
    "| ``np.percentile`` | ``np.nanpercentile``| Compute rank-based statistics of elements     |\n",
    "| ``np.any``        | N/A                 | Evaluate whether any elements are true        |\n",
    "| ``np.all``        | N/A                 | Evaluate whether all elements are true        |"
   ]
  },
  {
   "cell_type": "markdown",
   "id": "badf1604-81ed-4855-b537-069bb18c3ec8",
   "metadata": {
    "id": "badf1604-81ed-4855-b537-069bb18c3ec8"
   },
   "source": [
    "## Comparison Operators as ufuncs"
   ]
  },
  {
   "cell_type": "code",
   "execution_count": 124,
   "id": "ade21efd-d028-41c0-8102-9552b981d378",
   "metadata": {
    "id": "ade21efd-d028-41c0-8102-9552b981d378",
    "tags": []
   },
   "outputs": [],
   "source": [
    "x = np.array([1, 2, 3, 4, 5])"
   ]
  },
  {
   "cell_type": "code",
   "execution_count": 125,
   "id": "0d7f977a-746b-44c7-9707-fb7d39425e45",
   "metadata": {
    "colab": {
     "base_uri": "https://localhost:8080/"
    },
    "collapsed": false,
    "id": "0d7f977a-746b-44c7-9707-fb7d39425e45",
    "jupyter": {
     "outputs_hidden": false
    },
    "outputId": "9cc7c3c0-8e6d-4d45-a3f9-335874841d21"
   },
   "outputs": [
    {
     "data": {
      "text/plain": [
       "array([ True,  True, False, False, False])"
      ]
     },
     "execution_count": 125,
     "metadata": {},
     "output_type": "execute_result"
    }
   ],
   "source": [
    "x < 3  # less than"
   ]
  },
  {
   "cell_type": "code",
   "execution_count": 126,
   "id": "85324f0c-60e8-4995-ab0c-6e3cc86c5761",
   "metadata": {
    "colab": {
     "base_uri": "https://localhost:8080/"
    },
    "collapsed": false,
    "id": "85324f0c-60e8-4995-ab0c-6e3cc86c5761",
    "jupyter": {
     "outputs_hidden": false
    },
    "outputId": "94570b69-35d4-4f23-971a-49a5961f5128"
   },
   "outputs": [
    {
     "data": {
      "text/plain": [
       "array([False, False, False,  True,  True])"
      ]
     },
     "execution_count": 126,
     "metadata": {},
     "output_type": "execute_result"
    }
   ],
   "source": [
    "x > 3  # greater than"
   ]
  },
  {
   "cell_type": "code",
   "execution_count": 127,
   "id": "022754e3-679d-461c-b5a0-f84d87480375",
   "metadata": {
    "colab": {
     "base_uri": "https://localhost:8080/"
    },
    "collapsed": false,
    "id": "022754e3-679d-461c-b5a0-f84d87480375",
    "jupyter": {
     "outputs_hidden": false
    },
    "outputId": "4957c673-23f8-4aca-fdc8-b1b9261dec97"
   },
   "outputs": [
    {
     "data": {
      "text/plain": [
       "array([ True,  True,  True, False, False])"
      ]
     },
     "execution_count": 127,
     "metadata": {},
     "output_type": "execute_result"
    }
   ],
   "source": [
    "x <= 3  # less than or equal"
   ]
  },
  {
   "cell_type": "code",
   "execution_count": 128,
   "id": "ac5ca1c1-fb8e-49e8-aa9c-d54b22a5c10f",
   "metadata": {
    "colab": {
     "base_uri": "https://localhost:8080/"
    },
    "collapsed": false,
    "id": "ac5ca1c1-fb8e-49e8-aa9c-d54b22a5c10f",
    "jupyter": {
     "outputs_hidden": false
    },
    "outputId": "1c2e40c0-9787-4712-b846-d3b91fda28a3"
   },
   "outputs": [
    {
     "data": {
      "text/plain": [
       "array([False, False,  True,  True,  True])"
      ]
     },
     "execution_count": 128,
     "metadata": {},
     "output_type": "execute_result"
    }
   ],
   "source": [
    "x >= 3  # greater than or equal"
   ]
  },
  {
   "cell_type": "code",
   "execution_count": 129,
   "id": "67ae4406-67d4-468e-942d-5f19d100c5ad",
   "metadata": {
    "colab": {
     "base_uri": "https://localhost:8080/"
    },
    "collapsed": false,
    "id": "67ae4406-67d4-468e-942d-5f19d100c5ad",
    "jupyter": {
     "outputs_hidden": false
    },
    "outputId": "dc7722b5-a848-47c2-d782-77f189b50e91"
   },
   "outputs": [
    {
     "data": {
      "text/plain": [
       "array([ True,  True, False,  True,  True])"
      ]
     },
     "execution_count": 129,
     "metadata": {},
     "output_type": "execute_result"
    }
   ],
   "source": [
    "x != 3  # not equal"
   ]
  },
  {
   "cell_type": "code",
   "execution_count": 130,
   "id": "deceadc1-4db1-4426-b6fb-ea21abc123ff",
   "metadata": {
    "colab": {
     "base_uri": "https://localhost:8080/"
    },
    "collapsed": false,
    "id": "deceadc1-4db1-4426-b6fb-ea21abc123ff",
    "jupyter": {
     "outputs_hidden": false
    },
    "outputId": "fe215177-7d5d-4452-ef07-21c71b941571"
   },
   "outputs": [
    {
     "data": {
      "text/plain": [
       "array([False, False,  True, False, False])"
      ]
     },
     "execution_count": 130,
     "metadata": {},
     "output_type": "execute_result"
    }
   ],
   "source": [
    "x == 3  # equal"
   ]
  },
  {
   "cell_type": "markdown",
   "id": "f87378c6-58d3-4d3b-9e0f-747bbbb073e5",
   "metadata": {
    "id": "f87378c6-58d3-4d3b-9e0f-747bbbb073e5"
   },
   "source": [
    "It is also possible to do an element-wise comparison of two arrays, and to include compound expressions:"
   ]
  },
  {
   "cell_type": "code",
   "execution_count": 131,
   "id": "ddca85b2-38ce-4670-80bb-9d065e62a653",
   "metadata": {
    "colab": {
     "base_uri": "https://localhost:8080/"
    },
    "collapsed": false,
    "id": "ddca85b2-38ce-4670-80bb-9d065e62a653",
    "jupyter": {
     "outputs_hidden": false
    },
    "outputId": "d543a7fc-caac-4d23-fbae-3c631572fa75"
   },
   "outputs": [
    {
     "data": {
      "text/plain": [
       "array([False,  True, False, False, False])"
      ]
     },
     "execution_count": 131,
     "metadata": {},
     "output_type": "execute_result"
    }
   ],
   "source": [
    "(2 * x) == (x ** 2)"
   ]
  },
  {
   "cell_type": "markdown",
   "id": "08c7b01a-e709-4185-9688-ea2037b6c8fc",
   "metadata": {
    "id": "08c7b01a-e709-4185-9688-ea2037b6c8fc"
   },
   "source": [
    "As in the case of arithmetic operators, the comparison operators are implemented as ufuncs in NumPy; for example, when you write `x < 3`, internally NumPy uses `np.less(x, 3)`.\n",
    "    \n",
    "A summary of the comparison operators and their equivalent ufunc is shown here:\n",
    "\n",
    "| Operator\t    | Equivalent ufunc    |\n",
    "|---------------|---------------------|\n",
    "|`==`           |`np.equal`           |\n",
    "|`!=`           |`np.not_equal`       |\n",
    "|`<`            |`np.less`            |\n",
    "|`<=`           |`np.less_equal`      |\n",
    "|`>`            |`np.greater`         |\n",
    "|`>=`           |`np.greater_equal`   |"
   ]
  },
  {
   "cell_type": "markdown",
   "id": "9a38286c-de07-43ea-8a53-f16539d8cee8",
   "metadata": {
    "id": "9a38286c-de07-43ea-8a53-f16539d8cee8"
   },
   "source": [
    "Just as in the case of arithmetic ufuncs, these will work on arrays of any size and shape.\n",
    "Here is a two-dimensional example:"
   ]
  },
  {
   "cell_type": "code",
   "execution_count": 132,
   "id": "e1d7d1ea-eb0c-449a-b7e5-0bfc612c7806",
   "metadata": {
    "colab": {
     "base_uri": "https://localhost:8080/"
    },
    "collapsed": false,
    "id": "e1d7d1ea-eb0c-449a-b7e5-0bfc612c7806",
    "jupyter": {
     "outputs_hidden": false
    },
    "outputId": "c8f11112-90ee-49f6-aa80-c8a565a36a54"
   },
   "outputs": [
    {
     "data": {
      "text/plain": [
       "array([[5, 0, 3, 3],\n",
       "       [7, 9, 3, 5],\n",
       "       [2, 4, 7, 6]])"
      ]
     },
     "execution_count": 132,
     "metadata": {},
     "output_type": "execute_result"
    }
   ],
   "source": [
    "rng = np.random.RandomState(0)\n",
    "x = rng.randint(10, size=(3, 4))\n",
    "x"
   ]
  },
  {
   "cell_type": "code",
   "execution_count": 133,
   "id": "d51aacb4-65a7-4759-919e-d480246ae58c",
   "metadata": {
    "colab": {
     "base_uri": "https://localhost:8080/"
    },
    "collapsed": false,
    "id": "d51aacb4-65a7-4759-919e-d480246ae58c",
    "jupyter": {
     "outputs_hidden": false
    },
    "outputId": "c24a71aa-8651-4191-81ad-fd90ed0c215f"
   },
   "outputs": [
    {
     "data": {
      "text/plain": [
       "array([[ True,  True,  True,  True],\n",
       "       [False, False,  True,  True],\n",
       "       [ True,  True, False, False]])"
      ]
     },
     "execution_count": 133,
     "metadata": {},
     "output_type": "execute_result"
    }
   ],
   "source": [
    "x < 6"
   ]
  },
  {
   "cell_type": "markdown",
   "id": "11e24349-b494-4d45-a362-41c75954b232",
   "metadata": {
    "id": "11e24349-b494-4d45-a362-41c75954b232"
   },
   "source": [
    "In each case, the result is a Boolean array, and NumPy provides a number of straightforward patterns for working with these Boolean results."
   ]
  },
  {
   "cell_type": "markdown",
   "id": "3ec8b41e-f979-48b2-9085-0e4a74475293",
   "metadata": {
    "id": "3ec8b41e-f979-48b2-9085-0e4a74475293"
   },
   "source": [
    "### Working with Boolean Arrays\n",
    "\n",
    "Given a Boolean array, there are a host of useful operations you can do.\n",
    "We'll work with ``x``, the two-dimensional array we created earlier."
   ]
  },
  {
   "cell_type": "code",
   "execution_count": 134,
   "id": "511352cb-5bb9-41ee-9123-535217697dcd",
   "metadata": {
    "colab": {
     "base_uri": "https://localhost:8080/"
    },
    "collapsed": false,
    "id": "511352cb-5bb9-41ee-9123-535217697dcd",
    "jupyter": {
     "outputs_hidden": false
    },
    "outputId": "f6f581ef-f1b3-4957-8f2a-3466c5254198"
   },
   "outputs": [
    {
     "name": "stdout",
     "output_type": "stream",
     "text": [
      "[[5 0 3 3]\n",
      " [7 9 3 5]\n",
      " [2 4 7 6]]\n"
     ]
    }
   ],
   "source": [
    "print(x)"
   ]
  },
  {
   "cell_type": "markdown",
   "id": "3316ec0b-8cbb-471a-a0b3-3d82481785a1",
   "metadata": {
    "id": "3316ec0b-8cbb-471a-a0b3-3d82481785a1"
   },
   "source": [
    "### Counting entries\n",
    "\n",
    "To count the number of ``True`` entries in a Boolean array, ``np.count_nonzero`` is useful:"
   ]
  },
  {
   "cell_type": "code",
   "execution_count": 135,
   "id": "12c66bfb-faca-4156-b9ef-40b765c20127",
   "metadata": {
    "colab": {
     "base_uri": "https://localhost:8080/"
    },
    "collapsed": false,
    "id": "12c66bfb-faca-4156-b9ef-40b765c20127",
    "jupyter": {
     "outputs_hidden": false
    },
    "outputId": "c9286db5-c4b0-4cd2-8ddd-af61b3038ea4"
   },
   "outputs": [
    {
     "data": {
      "text/plain": [
       "8"
      ]
     },
     "execution_count": 135,
     "metadata": {},
     "output_type": "execute_result"
    }
   ],
   "source": [
    "# how many values less than 6?\n",
    "np.count_nonzero(x < 6)"
   ]
  },
  {
   "cell_type": "markdown",
   "id": "d9c922f9-fc33-4085-9a16-101f5e0d35c4",
   "metadata": {
    "id": "d9c922f9-fc33-4085-9a16-101f5e0d35c4"
   },
   "source": [
    "We see that there are eight array entries that are less than 6.\n",
    "Another way to get at this information is to use ``np.sum``; in this case, ``False`` is interpreted as ``0``, and ``True`` is interpreted as ``1``:"
   ]
  },
  {
   "cell_type": "code",
   "execution_count": 136,
   "id": "1665f434-ba54-405e-b21f-bf4a66b926ee",
   "metadata": {
    "colab": {
     "base_uri": "https://localhost:8080/"
    },
    "collapsed": false,
    "id": "1665f434-ba54-405e-b21f-bf4a66b926ee",
    "jupyter": {
     "outputs_hidden": false
    },
    "outputId": "101f8d24-075e-4187-9965-653fe6805206"
   },
   "outputs": [
    {
     "data": {
      "text/plain": [
       "8"
      ]
     },
     "execution_count": 136,
     "metadata": {},
     "output_type": "execute_result"
    }
   ],
   "source": [
    "np.sum(x < 6)"
   ]
  },
  {
   "cell_type": "markdown",
   "id": "09d3d450-f9d7-4865-b36c-a4253a9f92bf",
   "metadata": {
    "id": "09d3d450-f9d7-4865-b36c-a4253a9f92bf"
   },
   "source": [
    "The benefit of ``sum()`` is that like with other NumPy aggregation functions, this summation can be done along rows or columns as well:"
   ]
  },
  {
   "cell_type": "code",
   "execution_count": 137,
   "id": "2a55acb4-e49e-44b9-b333-777b8510ba10",
   "metadata": {
    "colab": {
     "base_uri": "https://localhost:8080/"
    },
    "collapsed": false,
    "id": "2a55acb4-e49e-44b9-b333-777b8510ba10",
    "jupyter": {
     "outputs_hidden": false
    },
    "outputId": "5499c534-2f0d-4504-9671-eb8f767785e6"
   },
   "outputs": [
    {
     "data": {
      "text/plain": [
       "array([4, 2, 2])"
      ]
     },
     "execution_count": 137,
     "metadata": {},
     "output_type": "execute_result"
    }
   ],
   "source": [
    "# how many values less than 6 in each row?\n",
    "np.sum(x < 6, axis=1)"
   ]
  },
  {
   "cell_type": "markdown",
   "id": "965ddf2a-5bfc-478b-b1d4-a70d1f126ca2",
   "metadata": {
    "id": "965ddf2a-5bfc-478b-b1d4-a70d1f126ca2"
   },
   "source": [
    "This counts the number of values less than 6 in each row of the matrix.\n",
    "\n",
    "If we're interested in quickly checking whether any or all the values are true, we can use (you guessed it) ``np.any`` or ``np.all``:"
   ]
  },
  {
   "cell_type": "code",
   "execution_count": 138,
   "id": "b6edf01b-cdb1-49f6-a356-d8e1afbff8e2",
   "metadata": {
    "colab": {
     "base_uri": "https://localhost:8080/"
    },
    "collapsed": false,
    "id": "b6edf01b-cdb1-49f6-a356-d8e1afbff8e2",
    "jupyter": {
     "outputs_hidden": false
    },
    "outputId": "82736306-a19a-4ca6-87f7-ab4d6c9ffe78"
   },
   "outputs": [
    {
     "data": {
      "text/plain": [
       "True"
      ]
     },
     "execution_count": 138,
     "metadata": {},
     "output_type": "execute_result"
    }
   ],
   "source": [
    "# are there any values greater than 8?\n",
    "np.any(x > 8)"
   ]
  },
  {
   "cell_type": "code",
   "execution_count": 139,
   "id": "bd1cfa18-c352-49a3-a437-ab607e4d5c48",
   "metadata": {
    "colab": {
     "base_uri": "https://localhost:8080/"
    },
    "collapsed": false,
    "id": "bd1cfa18-c352-49a3-a437-ab607e4d5c48",
    "jupyter": {
     "outputs_hidden": false
    },
    "outputId": "f62a5c20-efab-40b2-f674-34ec85fc07da"
   },
   "outputs": [
    {
     "data": {
      "text/plain": [
       "False"
      ]
     },
     "execution_count": 139,
     "metadata": {},
     "output_type": "execute_result"
    }
   ],
   "source": [
    "# are there any values less than zero?\n",
    "np.any(x < 0)"
   ]
  },
  {
   "cell_type": "code",
   "execution_count": 140,
   "id": "dcae83a6-0657-4f47-8bce-e32a13c03aa8",
   "metadata": {
    "colab": {
     "base_uri": "https://localhost:8080/"
    },
    "collapsed": false,
    "id": "dcae83a6-0657-4f47-8bce-e32a13c03aa8",
    "jupyter": {
     "outputs_hidden": false
    },
    "outputId": "33d62abc-be39-4e9e-fa3b-d18497933349"
   },
   "outputs": [
    {
     "data": {
      "text/plain": [
       "True"
      ]
     },
     "execution_count": 140,
     "metadata": {},
     "output_type": "execute_result"
    }
   ],
   "source": [
    "# are all values less than 10?\n",
    "np.all(x < 10)"
   ]
  },
  {
   "cell_type": "code",
   "execution_count": 141,
   "id": "832f3161-f711-4c83-bbc4-03f138840602",
   "metadata": {
    "colab": {
     "base_uri": "https://localhost:8080/"
    },
    "collapsed": false,
    "id": "832f3161-f711-4c83-bbc4-03f138840602",
    "jupyter": {
     "outputs_hidden": false
    },
    "outputId": "390504a0-1293-44f3-d701-307199361004"
   },
   "outputs": [
    {
     "data": {
      "text/plain": [
       "False"
      ]
     },
     "execution_count": 141,
     "metadata": {},
     "output_type": "execute_result"
    }
   ],
   "source": [
    "# are all values equal to 6?\n",
    "np.all(x == 6)"
   ]
  },
  {
   "cell_type": "markdown",
   "id": "68a0dece-99bf-466f-b7cf-0227a7381db5",
   "metadata": {
    "id": "68a0dece-99bf-466f-b7cf-0227a7381db5"
   },
   "source": [
    "``np.all`` and ``np.any`` can be used along particular axes as well. For example:"
   ]
  },
  {
   "cell_type": "code",
   "execution_count": 142,
   "id": "9606fac6-9bbe-4cb1-b9bd-492574bb0d44",
   "metadata": {
    "colab": {
     "base_uri": "https://localhost:8080/"
    },
    "collapsed": false,
    "id": "9606fac6-9bbe-4cb1-b9bd-492574bb0d44",
    "jupyter": {
     "outputs_hidden": false
    },
    "outputId": "e46605d1-120f-418c-dd7a-e92ba36c3ec3"
   },
   "outputs": [
    {
     "data": {
      "text/plain": [
       "array([ True, False,  True])"
      ]
     },
     "execution_count": 142,
     "metadata": {},
     "output_type": "execute_result"
    }
   ],
   "source": [
    "# are all values in each row less than 8?\n",
    "np.all(x < 8, axis=1)"
   ]
  },
  {
   "cell_type": "markdown",
   "id": "2e104fe1-16b1-4b1c-b81f-6b93c0ad75df",
   "metadata": {
    "id": "2e104fe1-16b1-4b1c-b81f-6b93c0ad75df"
   },
   "source": [
    "### Boolean Arrays as Masks"
   ]
  },
  {
   "cell_type": "code",
   "execution_count": 143,
   "id": "784d0cf2-d6eb-4c83-b78a-1d818d435274",
   "metadata": {
    "colab": {
     "base_uri": "https://localhost:8080/"
    },
    "collapsed": false,
    "id": "784d0cf2-d6eb-4c83-b78a-1d818d435274",
    "jupyter": {
     "outputs_hidden": false
    },
    "outputId": "253e7e4d-4a61-4865-abbb-3a64a7d9677b"
   },
   "outputs": [
    {
     "data": {
      "text/plain": [
       "array([[5, 0, 3, 3],\n",
       "       [7, 9, 3, 5],\n",
       "       [2, 4, 7, 6]])"
      ]
     },
     "execution_count": 143,
     "metadata": {},
     "output_type": "execute_result"
    }
   ],
   "source": [
    "x"
   ]
  },
  {
   "cell_type": "code",
   "execution_count": 144,
   "id": "0092ae63-1d9c-4b60-b6c4-b81b4f9bc5fd",
   "metadata": {
    "colab": {
     "base_uri": "https://localhost:8080/"
    },
    "collapsed": false,
    "id": "0092ae63-1d9c-4b60-b6c4-b81b4f9bc5fd",
    "jupyter": {
     "outputs_hidden": false
    },
    "outputId": "c6ccc4a9-f3a1-4eab-f95b-4ca42533c56a"
   },
   "outputs": [
    {
     "data": {
      "text/plain": [
       "array([[False,  True,  True,  True],\n",
       "       [False, False,  True, False],\n",
       "       [ True,  True, False, False]])"
      ]
     },
     "execution_count": 144,
     "metadata": {},
     "output_type": "execute_result"
    }
   ],
   "source": [
    "x < 5"
   ]
  },
  {
   "cell_type": "markdown",
   "id": "0c2560bd-45a5-4748-a531-e2b2da988fbe",
   "metadata": {
    "id": "0c2560bd-45a5-4748-a531-e2b2da988fbe"
   },
   "source": [
    "Now to *select* these values from the array, we can simply index on this Boolean array; this is known as a *masking* operation:"
   ]
  },
  {
   "cell_type": "code",
   "execution_count": 145,
   "id": "ffbb59ab-4cfd-473a-9cb9-4b4a87b84665",
   "metadata": {
    "colab": {
     "base_uri": "https://localhost:8080/"
    },
    "collapsed": false,
    "id": "ffbb59ab-4cfd-473a-9cb9-4b4a87b84665",
    "jupyter": {
     "outputs_hidden": false
    },
    "outputId": "b5338113-1fcd-428b-d927-da10583a2d00"
   },
   "outputs": [
    {
     "data": {
      "text/plain": [
       "array([0, 3, 3, 3, 2, 4])"
      ]
     },
     "execution_count": 145,
     "metadata": {},
     "output_type": "execute_result"
    }
   ],
   "source": [
    "x[x < 5]"
   ]
  },
  {
   "cell_type": "markdown",
   "id": "a099903d-3de3-401d-adb4-2f7b6d5a85ba",
   "metadata": {
    "id": "a099903d-3de3-401d-adb4-2f7b6d5a85ba"
   },
   "source": [
    "## Fancy Indexing"
   ]
  },
  {
   "cell_type": "markdown",
   "id": "e8418dec-6c65-449b-87a3-243adad74cc6",
   "metadata": {
    "id": "e8418dec-6c65-449b-87a3-243adad74cc6"
   },
   "source": [
    "Fancy indexing is conceptually simple: it means passing an array of indices to access multiple array elements at once.\n",
    "For example, consider the following array:"
   ]
  },
  {
   "cell_type": "code",
   "execution_count": 146,
   "id": "95750c96-b1c1-4c04-b950-6b7743db49fb",
   "metadata": {
    "colab": {
     "base_uri": "https://localhost:8080/"
    },
    "collapsed": false,
    "id": "95750c96-b1c1-4c04-b950-6b7743db49fb",
    "jupyter": {
     "outputs_hidden": false
    },
    "outputId": "b459f242-07c7-498b-f5a8-4ffb7b4e962f"
   },
   "outputs": [
    {
     "name": "stdout",
     "output_type": "stream",
     "text": [
      "[51 92 14 71 60 20 82 86 74 74]\n"
     ]
    }
   ],
   "source": [
    "rand = np.random.RandomState(42)\n",
    "x = rand.randint(100, size=10)\n",
    "print(x)"
   ]
  },
  {
   "cell_type": "code",
   "execution_count": 147,
   "id": "246b5ec0-81fd-4414-bc1e-88f025300080",
   "metadata": {
    "colab": {
     "base_uri": "https://localhost:8080/"
    },
    "collapsed": false,
    "id": "246b5ec0-81fd-4414-bc1e-88f025300080",
    "jupyter": {
     "outputs_hidden": false
    },
    "outputId": "85ac41ad-95f6-4c60-b809-7966fb2a9001"
   },
   "outputs": [
    {
     "data": {
      "text/plain": [
       "[71, 86, 14]"
      ]
     },
     "execution_count": 147,
     "metadata": {},
     "output_type": "execute_result"
    }
   ],
   "source": [
    "[x[3], x[7], x[2]]"
   ]
  },
  {
   "cell_type": "markdown",
   "id": "13cdd7a0-e39c-4656-843f-2b075575a21f",
   "metadata": {
    "id": "13cdd7a0-e39c-4656-843f-2b075575a21f"
   },
   "source": [
    "Alternatively, we can pass a single list or array of indices to obtain the same result:"
   ]
  },
  {
   "cell_type": "code",
   "execution_count": 148,
   "id": "f7b700af-728d-408e-af85-c0ad878d5b87",
   "metadata": {
    "colab": {
     "base_uri": "https://localhost:8080/"
    },
    "collapsed": false,
    "id": "f7b700af-728d-408e-af85-c0ad878d5b87",
    "jupyter": {
     "outputs_hidden": false
    },
    "outputId": "4190639f-503a-4ceb-e245-3067b3ba75fc"
   },
   "outputs": [
    {
     "data": {
      "text/plain": [
       "array([71, 86, 60])"
      ]
     },
     "execution_count": 148,
     "metadata": {},
     "output_type": "execute_result"
    }
   ],
   "source": [
    "ind = [3, 7, 4]\n",
    "x[ind]"
   ]
  },
  {
   "cell_type": "markdown",
   "id": "e094b475-5401-4ef1-b3d6-22a91990f604",
   "metadata": {
    "id": "e094b475-5401-4ef1-b3d6-22a91990f604"
   },
   "source": [
    "When using fancy indexing, the shape of the result reflects the shape of the *index arrays* rather than the shape of the *array being indexed*:"
   ]
  },
  {
   "cell_type": "code",
   "execution_count": 149,
   "id": "bedb50de-a123-40af-b1d5-ae54985be116",
   "metadata": {
    "colab": {
     "base_uri": "https://localhost:8080/"
    },
    "collapsed": false,
    "id": "bedb50de-a123-40af-b1d5-ae54985be116",
    "jupyter": {
     "outputs_hidden": false
    },
    "outputId": "3107cd8b-b171-41e1-8be2-4d2bda5fa13d"
   },
   "outputs": [
    {
     "data": {
      "text/plain": [
       "array([[71, 86],\n",
       "       [60, 20]])"
      ]
     },
     "execution_count": 149,
     "metadata": {},
     "output_type": "execute_result"
    }
   ],
   "source": [
    "ind = np.array([[3, 7],\n",
    "                [4, 5]])\n",
    "x[ind]"
   ]
  },
  {
   "cell_type": "markdown",
   "id": "676df46b-6bfc-42a5-ad08-bd62e14bee74",
   "metadata": {
    "id": "676df46b-6bfc-42a5-ad08-bd62e14bee74"
   },
   "source": [
    "## Sorting Arrays"
   ]
  },
  {
   "cell_type": "code",
   "execution_count": 150,
   "id": "59a360a9-b2da-4f07-8ecb-c1a640594b6d",
   "metadata": {
    "colab": {
     "base_uri": "https://localhost:8080/"
    },
    "collapsed": false,
    "id": "59a360a9-b2da-4f07-8ecb-c1a640594b6d",
    "jupyter": {
     "outputs_hidden": false
    },
    "outputId": "4f615c67-0d0d-4ca8-97f1-309d29baaddb"
   },
   "outputs": [
    {
     "data": {
      "text/plain": [
       "array([1, 2, 3, 4, 5])"
      ]
     },
     "execution_count": 150,
     "metadata": {},
     "output_type": "execute_result"
    }
   ],
   "source": [
    "x = np.array([2, 1, 4, 3, 5])\n",
    "np.sort(x)"
   ]
  },
  {
   "cell_type": "markdown",
   "id": "5ee94b3e-912a-4199-90c0-c2ae33c6ff9c",
   "metadata": {
    "id": "5ee94b3e-912a-4199-90c0-c2ae33c6ff9c"
   },
   "source": [
    "If you prefer to sort the array in-place, you can instead use the ``sort`` method of arrays:"
   ]
  },
  {
   "cell_type": "code",
   "execution_count": 151,
   "id": "1e9732ca-32a3-4984-b841-8f0b9920e74a",
   "metadata": {
    "colab": {
     "base_uri": "https://localhost:8080/"
    },
    "collapsed": false,
    "id": "1e9732ca-32a3-4984-b841-8f0b9920e74a",
    "jupyter": {
     "outputs_hidden": false
    },
    "outputId": "7989a89c-0b8f-41bb-a566-f061ce8b04f0"
   },
   "outputs": [
    {
     "name": "stdout",
     "output_type": "stream",
     "text": [
      "[1 2 3 4 5]\n"
     ]
    }
   ],
   "source": [
    "x.sort()\n",
    "print(x)"
   ]
  },
  {
   "cell_type": "markdown",
   "id": "87a601a0-b606-4959-9239-35e997d3bdf9",
   "metadata": {
    "id": "87a601a0-b606-4959-9239-35e997d3bdf9"
   },
   "source": [
    "A related function is ``argsort``, which instead returns the *indices* of the sorted elements:"
   ]
  },
  {
   "cell_type": "code",
   "execution_count": 152,
   "id": "4f705327-e630-4ca6-9b31-4e74628d84d3",
   "metadata": {
    "colab": {
     "base_uri": "https://localhost:8080/"
    },
    "collapsed": false,
    "id": "4f705327-e630-4ca6-9b31-4e74628d84d3",
    "jupyter": {
     "outputs_hidden": false
    },
    "outputId": "209722db-818c-441d-9847-613d6a382f21"
   },
   "outputs": [
    {
     "name": "stdout",
     "output_type": "stream",
     "text": [
      "[1 0 3 2 4]\n"
     ]
    }
   ],
   "source": [
    "x = np.array([2, 1, 4, 3, 5])\n",
    "i = np.argsort(x)\n",
    "print(i)"
   ]
  },
  {
   "cell_type": "markdown",
   "id": "aac50964-e9b0-4468-a504-e3532a4bdc5c",
   "metadata": {
    "id": "aac50964-e9b0-4468-a504-e3532a4bdc5c"
   },
   "source": [
    "The first element of this result gives the index of the smallest element, the second value gives the index of the second smallest, and so on.\n",
    "These indices can then be used (via fancy indexing) to construct the sorted array if desired:"
   ]
  },
  {
   "cell_type": "code",
   "execution_count": 153,
   "id": "509341c4-59b9-46d2-a7d6-af6b8cd08112",
   "metadata": {
    "colab": {
     "base_uri": "https://localhost:8080/"
    },
    "collapsed": false,
    "id": "509341c4-59b9-46d2-a7d6-af6b8cd08112",
    "jupyter": {
     "outputs_hidden": false
    },
    "outputId": "94a4c946-4d23-4af2-e806-aee8550d37b3"
   },
   "outputs": [
    {
     "data": {
      "text/plain": [
       "array([1, 2, 3, 4, 5])"
      ]
     },
     "execution_count": 153,
     "metadata": {},
     "output_type": "execute_result"
    }
   ],
   "source": [
    "x[i]"
   ]
  },
  {
   "cell_type": "markdown",
   "id": "aa31523d-5aee-4b2f-9aa9-1111f3d5d882",
   "metadata": {
    "id": "aa31523d-5aee-4b2f-9aa9-1111f3d5d882"
   },
   "source": [
    "### Sorting along rows or columns"
   ]
  },
  {
   "cell_type": "markdown",
   "id": "52d4e85a-0241-4301-aae3-8e825d55b2e0",
   "metadata": {
    "id": "52d4e85a-0241-4301-aae3-8e825d55b2e0"
   },
   "source": [
    "A useful feature of NumPy's sorting algorithms is the ability to sort along specific rows or columns of a multidimensional array using the ``axis`` argument. For example:"
   ]
  },
  {
   "cell_type": "code",
   "execution_count": 154,
   "id": "d6c62dd9-5629-47ab-8fa8-c4c6b2be2c4c",
   "metadata": {
    "colab": {
     "base_uri": "https://localhost:8080/"
    },
    "collapsed": false,
    "id": "d6c62dd9-5629-47ab-8fa8-c4c6b2be2c4c",
    "jupyter": {
     "outputs_hidden": false
    },
    "outputId": "2161e7da-fdf9-45b3-8f33-8b48027b3ba5"
   },
   "outputs": [
    {
     "name": "stdout",
     "output_type": "stream",
     "text": [
      "[[6 3 7 4 6 9]\n",
      " [2 6 7 4 3 7]\n",
      " [7 2 5 4 1 7]\n",
      " [5 1 4 0 9 5]]\n"
     ]
    }
   ],
   "source": [
    "rand = np.random.RandomState(42)\n",
    "X = rand.randint(0, 10, (4, 6))\n",
    "print(X)"
   ]
  },
  {
   "cell_type": "code",
   "execution_count": 155,
   "id": "d0f7490f-8f93-4597-90ce-2e18256f8768",
   "metadata": {
    "colab": {
     "base_uri": "https://localhost:8080/"
    },
    "collapsed": false,
    "id": "d0f7490f-8f93-4597-90ce-2e18256f8768",
    "jupyter": {
     "outputs_hidden": false
    },
    "outputId": "8022eab3-5542-475b-d142-abdac5a47d73"
   },
   "outputs": [
    {
     "data": {
      "text/plain": [
       "array([[2, 1, 4, 0, 1, 5],\n",
       "       [5, 2, 5, 4, 3, 7],\n",
       "       [6, 3, 7, 4, 6, 7],\n",
       "       [7, 6, 7, 4, 9, 9]])"
      ]
     },
     "execution_count": 155,
     "metadata": {},
     "output_type": "execute_result"
    }
   ],
   "source": [
    "# sort each column of X\n",
    "np.sort(X, axis=0)"
   ]
  },
  {
   "cell_type": "code",
   "execution_count": 156,
   "id": "98fe96ec-125b-4698-a6ae-dfa887ff568e",
   "metadata": {
    "colab": {
     "base_uri": "https://localhost:8080/"
    },
    "collapsed": false,
    "id": "98fe96ec-125b-4698-a6ae-dfa887ff568e",
    "jupyter": {
     "outputs_hidden": false
    },
    "outputId": "a1e0a498-8954-4dac-8fc5-0fedfbd028f2"
   },
   "outputs": [
    {
     "data": {
      "text/plain": [
       "array([[3, 4, 6, 6, 7, 9],\n",
       "       [2, 3, 4, 6, 7, 7],\n",
       "       [1, 2, 4, 5, 7, 7],\n",
       "       [0, 1, 4, 5, 5, 9]])"
      ]
     },
     "execution_count": 156,
     "metadata": {},
     "output_type": "execute_result"
    }
   ],
   "source": [
    "# sort each row of X\n",
    "np.sort(X, axis=1)"
   ]
  },
  {
   "cell_type": "markdown",
   "id": "9092b7e5-1bbb-4da4-8e0f-bc19b6926c08",
   "metadata": {
    "id": "9092b7e5-1bbb-4da4-8e0f-bc19b6926c08"
   },
   "source": [
    "### Partial Sorts: Partitioning\n",
    "\n",
    "Sometimes we're not interested in sorting the entire array, but simply want to find the *k* smallest values in the array. NumPy provides this in the ``np.partition`` function. ``np.partition`` takes an array and a number *K*; the result is a new array with the smallest *K* values to the left of the partition, and the remaining values to the right, in arbitrary order:"
   ]
  },
  {
   "cell_type": "code",
   "execution_count": 157,
   "id": "ecc0c25b-c4bd-4f62-92eb-1826603ba80d",
   "metadata": {
    "colab": {
     "base_uri": "https://localhost:8080/"
    },
    "collapsed": false,
    "id": "ecc0c25b-c4bd-4f62-92eb-1826603ba80d",
    "jupyter": {
     "outputs_hidden": false
    },
    "outputId": "71712fbd-caba-4157-dbc3-bfcb1bdf09f9"
   },
   "outputs": [
    {
     "data": {
      "text/plain": [
       "array([2, 1, 3, 4, 6, 5, 7])"
      ]
     },
     "execution_count": 157,
     "metadata": {},
     "output_type": "execute_result"
    }
   ],
   "source": [
    "x = np.array([7, 2, 3, 1, 6, 5, 4])\n",
    "np.partition(x, 3)"
   ]
  },
  {
   "cell_type": "code",
   "execution_count": 158,
   "id": "7e7f6642-03e7-4ccb-9715-fdc4c32dd075",
   "metadata": {
    "colab": {
     "base_uri": "https://localhost:8080/"
    },
    "collapsed": false,
    "id": "7e7f6642-03e7-4ccb-9715-fdc4c32dd075",
    "jupyter": {
     "outputs_hidden": false
    },
    "outputId": "3cfabd93-0076-4b93-86a3-4378b97b284a"
   },
   "outputs": [
    {
     "data": {
      "text/plain": [
       "array([[3, 4, 6, 7, 6, 9],\n",
       "       [2, 3, 4, 7, 6, 7],\n",
       "       [1, 2, 4, 5, 7, 7],\n",
       "       [0, 1, 4, 5, 9, 5]])"
      ]
     },
     "execution_count": 158,
     "metadata": {},
     "output_type": "execute_result"
    }
   ],
   "source": [
    "np.partition(X, 2, axis=1)"
   ]
  }
 ],
 "metadata": {
  "colab": {
   "collapsed_sections": [
    "498aea69-9d1f-4964-9873-83cc87632ccc",
    "bfda840b-8694-4f49-9efc-17546b220b9e"
   ],
   "provenance": []
  },
  "kernelspec": {
   "display_name": "Python 3 (ipykernel)",
   "language": "python",
   "name": "python3"
  },
  "language_info": {
   "codemirror_mode": {
    "name": "ipython",
    "version": 3
   },
   "file_extension": ".py",
   "mimetype": "text/x-python",
   "name": "python",
   "nbconvert_exporter": "python",
   "pygments_lexer": "ipython3",
   "version": "3.10.4"
  },
  "toc-autonumbering": true
 },
 "nbformat": 4,
 "nbformat_minor": 5
}
